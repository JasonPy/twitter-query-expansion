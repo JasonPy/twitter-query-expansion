{
 "cells": [
  {
   "cell_type": "markdown",
   "metadata": {},
   "source": [
    "# Inspect Twitter Data"
   ]
  },
  {
   "cell_type": "code",
   "execution_count": 1,
   "metadata": {},
   "outputs": [
    {
     "name": "stdout",
     "output_type": "stream",
     "text": [
      "/home/jsonpy/Projects/Practical/twitter-query-expansion\n"
     ]
    }
   ],
   "source": [
    "import os\n",
    "\n",
    "# change the working directory to the root of the project\n",
    "os.chdir(\"../\")\n",
    "print(os.getcwd())"
   ]
  },
  {
   "cell_type": "code",
   "execution_count": 4,
   "metadata": {},
   "outputs": [
    {
     "data": {
      "text/plain": [
       "['auth/pg-credentials.ini']"
      ]
     },
     "execution_count": 4,
     "metadata": {},
     "output_type": "execute_result"
    }
   ],
   "source": [
    "import pandas as pd\n",
    "import json\n",
    "import numpy as np\n",
    "import configparser\n",
    "\n",
    "from IPython.display import display\n",
    "from sqlalchemy import create_engine, inspect\n",
    "\n",
    "config = configparser.ConfigParser()\n",
    "config.read('auth/pg-credentials.ini')"
   ]
  },
  {
   "cell_type": "code",
   "execution_count": 5,
   "metadata": {},
   "outputs": [],
   "source": [
    "# establish connection to database via postgresql client\n",
    "engine = create_engine(f'postgresql://{config[\"POSTGRES\"][\"USER\"]}:{config[\"POSTGRES\"][\"PWD\"]}@{config[\"POSTGRES\"][\"URL\"]}/{config[\"POSTGRES\"][\"DB\"]}')"
   ]
  },
  {
   "cell_type": "markdown",
   "metadata": {},
   "source": [
    "***\n",
    "## Database Overview"
   ]
  },
  {
   "cell_type": "code",
   "execution_count": 6,
   "metadata": {},
   "outputs": [],
   "source": [
    "inspector = inspect(engine)\n",
    "\n",
    "# inspect tables\n",
    "tables = inspector.get_table_names()"
   ]
  },
  {
   "cell_type": "code",
   "execution_count": 7,
   "metadata": {},
   "outputs": [
    {
     "name": "stdout",
     "output_type": "stream",
     "text": [
      "conversation\n"
     ]
    },
    {
     "data": {
      "text/html": [
       "<div>\n",
       "<style scoped>\n",
       "    .dataframe tbody tr th:only-of-type {\n",
       "        vertical-align: middle;\n",
       "    }\n",
       "\n",
       "    .dataframe tbody tr th {\n",
       "        vertical-align: top;\n",
       "    }\n",
       "\n",
       "    .dataframe thead th {\n",
       "        text-align: right;\n",
       "    }\n",
       "</style>\n",
       "<table border=\"1\" class=\"dataframe\">\n",
       "  <thead>\n",
       "    <tr style=\"text-align: right;\">\n",
       "      <th></th>\n",
       "      <th>id</th>\n",
       "      <th>tweets</th>\n",
       "    </tr>\n",
       "  </thead>\n",
       "  <tbody>\n",
       "    <tr>\n",
       "      <th>0</th>\n",
       "      <td>1454842489593028609</td>\n",
       "      <td>[1454842489593028609]</td>\n",
       "    </tr>\n",
       "    <tr>\n",
       "      <th>1</th>\n",
       "      <td>1454805472154882050</td>\n",
       "      <td>[1454918236647174145]</td>\n",
       "    </tr>\n",
       "    <tr>\n",
       "      <th>2</th>\n",
       "      <td>1454838863537577984</td>\n",
       "      <td>[1454838863537577984]</td>\n",
       "    </tr>\n",
       "  </tbody>\n",
       "</table>\n",
       "</div>"
      ],
      "text/plain": [
       "                    id                 tweets\n",
       "0  1454842489593028609  [1454842489593028609]\n",
       "1  1454805472154882050  [1454918236647174145]\n",
       "2  1454838863537577984  [1454838863537577984]"
      ]
     },
     "metadata": {},
     "output_type": "display_data"
    },
    {
     "name": "stdout",
     "output_type": "stream",
     "text": [
      "hashtag\n"
     ]
    },
    {
     "data": {
      "text/html": [
       "<div>\n",
       "<style scoped>\n",
       "    .dataframe tbody tr th:only-of-type {\n",
       "        vertical-align: middle;\n",
       "    }\n",
       "\n",
       "    .dataframe tbody tr th {\n",
       "        vertical-align: top;\n",
       "    }\n",
       "\n",
       "    .dataframe thead th {\n",
       "        text-align: right;\n",
       "    }\n",
       "</style>\n",
       "<table border=\"1\" class=\"dataframe\">\n",
       "  <thead>\n",
       "    <tr style=\"text-align: right;\">\n",
       "      <th></th>\n",
       "      <th>id</th>\n",
       "      <th>txt</th>\n",
       "    </tr>\n",
       "  </thead>\n",
       "  <tbody>\n",
       "    <tr>\n",
       "      <th>0</th>\n",
       "      <td>8</td>\n",
       "      <td>krone</td>\n",
       "    </tr>\n",
       "    <tr>\n",
       "      <th>1</th>\n",
       "      <td>9</td>\n",
       "      <td>luftreinigungsgeräte</td>\n",
       "    </tr>\n",
       "    <tr>\n",
       "      <th>2</th>\n",
       "      <td>14</td>\n",
       "      <td>fragebogen</td>\n",
       "    </tr>\n",
       "  </tbody>\n",
       "</table>\n",
       "</div>"
      ],
      "text/plain": [
       "   id                   txt\n",
       "0   8                 krone\n",
       "1   9  luftreinigungsgeräte\n",
       "2  14            fragebogen"
      ]
     },
     "metadata": {},
     "output_type": "display_data"
    },
    {
     "name": "stdout",
     "output_type": "stream",
     "text": [
      "hashtag_posting\n"
     ]
    },
    {
     "data": {
      "text/html": [
       "<div>\n",
       "<style scoped>\n",
       "    .dataframe tbody tr th:only-of-type {\n",
       "        vertical-align: middle;\n",
       "    }\n",
       "\n",
       "    .dataframe tbody tr th {\n",
       "        vertical-align: top;\n",
       "    }\n",
       "\n",
       "    .dataframe thead th {\n",
       "        text-align: right;\n",
       "    }\n",
       "</style>\n",
       "<table border=\"1\" class=\"dataframe\">\n",
       "  <thead>\n",
       "    <tr style=\"text-align: right;\">\n",
       "      <th></th>\n",
       "      <th>tweet_id</th>\n",
       "      <th>hashtag_id</th>\n",
       "      <th>pos_start</th>\n",
       "    </tr>\n",
       "  </thead>\n",
       "  <tbody>\n",
       "    <tr>\n",
       "      <th>0</th>\n",
       "      <td>1422134913848029187</td>\n",
       "      <td>1</td>\n",
       "      <td>15</td>\n",
       "    </tr>\n",
       "    <tr>\n",
       "      <th>1</th>\n",
       "      <td>1422134915185905664</td>\n",
       "      <td>2</td>\n",
       "      <td>46</td>\n",
       "    </tr>\n",
       "    <tr>\n",
       "      <th>2</th>\n",
       "      <td>1421724714683322369</td>\n",
       "      <td>3</td>\n",
       "      <td>29</td>\n",
       "    </tr>\n",
       "  </tbody>\n",
       "</table>\n",
       "</div>"
      ],
      "text/plain": [
       "              tweet_id  hashtag_id  pos_start\n",
       "0  1422134913848029187           1         15\n",
       "1  1422134915185905664           2         46\n",
       "2  1421724714683322369           3         29"
      ]
     },
     "metadata": {},
     "output_type": "display_data"
    },
    {
     "name": "stdout",
     "output_type": "stream",
     "text": [
      "tweet\n"
     ]
    },
    {
     "data": {
      "text/html": [
       "<div>\n",
       "<style scoped>\n",
       "    .dataframe tbody tr th:only-of-type {\n",
       "        vertical-align: middle;\n",
       "    }\n",
       "\n",
       "    .dataframe tbody tr th {\n",
       "        vertical-align: top;\n",
       "    }\n",
       "\n",
       "    .dataframe thead th {\n",
       "        text-align: right;\n",
       "    }\n",
       "</style>\n",
       "<table border=\"1\" class=\"dataframe\">\n",
       "  <thead>\n",
       "    <tr style=\"text-align: right;\">\n",
       "      <th></th>\n",
       "      <th>id</th>\n",
       "      <th>conversation_id</th>\n",
       "      <th>author_id</th>\n",
       "      <th>retweet_count</th>\n",
       "      <th>reply_count</th>\n",
       "      <th>like_count</th>\n",
       "      <th>created_at</th>\n",
       "      <th>txt</th>\n",
       "    </tr>\n",
       "  </thead>\n",
       "  <tbody>\n",
       "    <tr>\n",
       "      <th>0</th>\n",
       "      <td>1454945694138224645</td>\n",
       "      <td>1454945694138224645</td>\n",
       "      <td>2797812265</td>\n",
       "      <td>0</td>\n",
       "      <td>3</td>\n",
       "      <td>8</td>\n",
       "      <td>2021-10-31 22:57:39+00:00</td>\n",
       "      <td>DANKE all den tollen Mitarbeitern im Tourismus...</td>\n",
       "    </tr>\n",
       "    <tr>\n",
       "      <th>1</th>\n",
       "      <td>1454950098790719490</td>\n",
       "      <td>1454950098790719490</td>\n",
       "      <td>52024480</td>\n",
       "      <td>111</td>\n",
       "      <td>0</td>\n",
       "      <td>0</td>\n",
       "      <td>2021-10-31 23:15:09+00:00</td>\n",
       "      <td>RT @ohneKlippo: Ich kann Männer nur davor warn...</td>\n",
       "    </tr>\n",
       "    <tr>\n",
       "      <th>2</th>\n",
       "      <td>1454949949548941313</td>\n",
       "      <td>1454949949548941313</td>\n",
       "      <td>1238114345361518593</td>\n",
       "      <td>105</td>\n",
       "      <td>0</td>\n",
       "      <td>0</td>\n",
       "      <td>2021-10-31 23:14:34+00:00</td>\n",
       "      <td>RT @Dieter_Stein: 16 Jahre an der Regierung, 2...</td>\n",
       "    </tr>\n",
       "  </tbody>\n",
       "</table>\n",
       "</div>"
      ],
      "text/plain": [
       "                    id      conversation_id            author_id  \\\n",
       "0  1454945694138224645  1454945694138224645           2797812265   \n",
       "1  1454950098790719490  1454950098790719490             52024480   \n",
       "2  1454949949548941313  1454949949548941313  1238114345361518593   \n",
       "\n",
       "   retweet_count  reply_count  like_count                created_at  \\\n",
       "0              0            3           8 2021-10-31 22:57:39+00:00   \n",
       "1            111            0           0 2021-10-31 23:15:09+00:00   \n",
       "2            105            0           0 2021-10-31 23:14:34+00:00   \n",
       "\n",
       "                                                 txt  \n",
       "0  DANKE all den tollen Mitarbeitern im Tourismus...  \n",
       "1  RT @ohneKlippo: Ich kann Männer nur davor warn...  \n",
       "2  RT @Dieter_Stein: 16 Jahre an der Regierung, 2...  "
      ]
     },
     "metadata": {},
     "output_type": "display_data"
    },
    {
     "name": "stdout",
     "output_type": "stream",
     "text": [
      "named_entity\n"
     ]
    },
    {
     "data": {
      "text/html": [
       "<div>\n",
       "<style scoped>\n",
       "    .dataframe tbody tr th:only-of-type {\n",
       "        vertical-align: middle;\n",
       "    }\n",
       "\n",
       "    .dataframe tbody tr th {\n",
       "        vertical-align: top;\n",
       "    }\n",
       "\n",
       "    .dataframe thead th {\n",
       "        text-align: right;\n",
       "    }\n",
       "</style>\n",
       "<table border=\"1\" class=\"dataframe\">\n",
       "  <thead>\n",
       "    <tr style=\"text-align: right;\">\n",
       "      <th></th>\n",
       "      <th>id</th>\n",
       "      <th>txt</th>\n",
       "    </tr>\n",
       "  </thead>\n",
       "  <tbody>\n",
       "    <tr>\n",
       "      <th>0</th>\n",
       "      <td>11</td>\n",
       "      <td>TUN</td>\n",
       "    </tr>\n",
       "    <tr>\n",
       "      <th>1</th>\n",
       "      <td>21</td>\n",
       "      <td>Drachenfels</td>\n",
       "    </tr>\n",
       "    <tr>\n",
       "      <th>2</th>\n",
       "      <td>22</td>\n",
       "      <td>Herschdorf</td>\n",
       "    </tr>\n",
       "  </tbody>\n",
       "</table>\n",
       "</div>"
      ],
      "text/plain": [
       "   id          txt\n",
       "0  11          TUN\n",
       "1  21  Drachenfels\n",
       "2  22   Herschdorf"
      ]
     },
     "metadata": {},
     "output_type": "display_data"
    },
    {
     "name": "stdout",
     "output_type": "stream",
     "text": [
      "named_entity_posting\n"
     ]
    },
    {
     "data": {
      "text/html": [
       "<div>\n",
       "<style scoped>\n",
       "    .dataframe tbody tr th:only-of-type {\n",
       "        vertical-align: middle;\n",
       "    }\n",
       "\n",
       "    .dataframe tbody tr th {\n",
       "        vertical-align: top;\n",
       "    }\n",
       "\n",
       "    .dataframe thead th {\n",
       "        text-align: right;\n",
       "    }\n",
       "</style>\n",
       "<table border=\"1\" class=\"dataframe\">\n",
       "  <thead>\n",
       "    <tr style=\"text-align: right;\">\n",
       "      <th></th>\n",
       "      <th>tweet_id</th>\n",
       "      <th>named_entity_id</th>\n",
       "      <th>pos_start</th>\n",
       "    </tr>\n",
       "  </thead>\n",
       "  <tbody>\n",
       "    <tr>\n",
       "      <th>0</th>\n",
       "      <td>1422085655274917889</td>\n",
       "      <td>1</td>\n",
       "      <td>26</td>\n",
       "    </tr>\n",
       "    <tr>\n",
       "      <th>1</th>\n",
       "      <td>1421832547487690755</td>\n",
       "      <td>2</td>\n",
       "      <td>226</td>\n",
       "    </tr>\n",
       "    <tr>\n",
       "      <th>2</th>\n",
       "      <td>1421775312145338375</td>\n",
       "      <td>3</td>\n",
       "      <td>62</td>\n",
       "    </tr>\n",
       "  </tbody>\n",
       "</table>\n",
       "</div>"
      ],
      "text/plain": [
       "              tweet_id  named_entity_id  pos_start\n",
       "0  1422085655274917889                1         26\n",
       "1  1421832547487690755                2        226\n",
       "2  1421775312145338375                3         62"
      ]
     },
     "metadata": {},
     "output_type": "display_data"
    },
    {
     "name": "stdout",
     "output_type": "stream",
     "text": [
      "twitter_user\n"
     ]
    },
    {
     "data": {
      "text/html": [
       "<div>\n",
       "<style scoped>\n",
       "    .dataframe tbody tr th:only-of-type {\n",
       "        vertical-align: middle;\n",
       "    }\n",
       "\n",
       "    .dataframe tbody tr th {\n",
       "        vertical-align: top;\n",
       "    }\n",
       "\n",
       "    .dataframe thead th {\n",
       "        text-align: right;\n",
       "    }\n",
       "</style>\n",
       "<table border=\"1\" class=\"dataframe\">\n",
       "  <thead>\n",
       "    <tr style=\"text-align: right;\">\n",
       "      <th></th>\n",
       "      <th>id</th>\n",
       "      <th>follower_count</th>\n",
       "      <th>tweet_count</th>\n",
       "      <th>typ</th>\n",
       "      <th>created_at</th>\n",
       "      <th>twitter_name</th>\n",
       "      <th>real_name</th>\n",
       "    </tr>\n",
       "  </thead>\n",
       "  <tbody>\n",
       "    <tr>\n",
       "      <th>0</th>\n",
       "      <td>2629261</td>\n",
       "      <td>3553</td>\n",
       "      <td>24656</td>\n",
       "      <td>politician</td>\n",
       "      <td>2007-03-28 06:58:38+00:00</td>\n",
       "      <td>hschmidt</td>\n",
       "      <td>Hansjörg Schmidt</td>\n",
       "    </tr>\n",
       "    <tr>\n",
       "      <th>1</th>\n",
       "      <td>5876652</td>\n",
       "      <td>761419</td>\n",
       "      <td>6099</td>\n",
       "      <td>lobby</td>\n",
       "      <td>2007-05-08 21:10:26+00:00</td>\n",
       "      <td>saschalobo</td>\n",
       "      <td>Sascha Lobo</td>\n",
       "    </tr>\n",
       "    <tr>\n",
       "      <th>2</th>\n",
       "      <td>9655032</td>\n",
       "      <td>409348</td>\n",
       "      <td>49843</td>\n",
       "      <td>lobby</td>\n",
       "      <td>2007-10-24 14:34:50+00:00</td>\n",
       "      <td>netzpolitik</td>\n",
       "      <td>netzpolitik</td>\n",
       "    </tr>\n",
       "  </tbody>\n",
       "</table>\n",
       "</div>"
      ],
      "text/plain": [
       "        id  follower_count  tweet_count         typ                created_at  \\\n",
       "0  2629261            3553        24656  politician 2007-03-28 06:58:38+00:00   \n",
       "1  5876652          761419         6099       lobby 2007-05-08 21:10:26+00:00   \n",
       "2  9655032          409348        49843       lobby 2007-10-24 14:34:50+00:00   \n",
       "\n",
       "  twitter_name         real_name  \n",
       "0     hschmidt  Hansjörg Schmidt  \n",
       "1   saschalobo       Sascha Lobo  \n",
       "2  netzpolitik       netzpolitik  "
      ]
     },
     "metadata": {},
     "output_type": "display_data"
    }
   ],
   "source": [
    "for t in tables:\n",
    "    print(t)\n",
    "    display(pd.read_sql_query(f'select * from \"{t}\" limit 3', con=engine))\n"
   ]
  },
  {
   "cell_type": "markdown",
   "metadata": {},
   "source": [
    "---\n",
    "## Filter Tweets by word amount\n",
    "Check how many tweets remain for different amounts of words within a Tweet."
   ]
  },
  {
   "cell_type": "code",
   "execution_count": 5,
   "metadata": {},
   "outputs": [],
   "source": [
    "import numpy as np \n",
    "\n",
    "num_tweets = pd.read_sql_query(\"SELECT count(*) FROM tweet\", con=engine).get(\"count\").item()\n",
    "\n",
    "min_words = np.linspace(5, 60, 12, dtype=np.uint)\n",
    "tweet_count = []\n",
    "\n",
    "for l in min_words:\n",
    "    query = (\n",
    "        \"SELECT COUNT(*) FROM (\"\n",
    "        \"SELECT t.txt, t.word_count \"\n",
    "        \"FROM (SELECT txt, array_length(string_to_array(regexp_replace(txt,  '[^\\w\\s]', '', 'g'), ' '), 1) AS word_count FROM tweet) AS t \" \n",
    "        f\"WHERE word_count >= {l} \"\n",
    "        \") AS c\"\n",
    "    )\n",
    "    res = pd.read_sql_query(query, con=engine)\n",
    "\n",
    "    # get number of tweets as percentage\n",
    "    tweet_count.append((l, res.get(\"count\").item()))"
   ]
  },
  {
   "cell_type": "markdown",
   "metadata": {},
   "source": [
    "Display the amount of remaining Tweets after filtering."
   ]
  },
  {
   "cell_type": "code",
   "execution_count": 6,
   "metadata": {},
   "outputs": [
    {
     "data": {
      "image/png": "[encoded data removed]",
      "text/plain": [
       "<Figure size 640x480 with 1 Axes>"
      ]
     },
     "metadata": {},
     "output_type": "display_data"
    }
   ],
   "source": [
    "df = pd.DataFrame(tweet_count, columns=['min words', 'frequency'])\n",
    "\n",
    "ax = df.plot(kind='barh', x='min words')\n",
    "ax.set_xlabel(f\"Remaining Tweets \\n (Total of {num_tweets})\")\n",
    "ax.set_ylabel(\"Minimum Number of Words / Tweet\")\n",
    "\n",
    "percentages = df['frequency'].apply(lambda x: (x/num_tweets)*100)\n",
    "labels = percentages.round(1).astype('str') + '%'\n",
    "\n",
    "for container in ax.containers:\n",
    "    ax.bar_label(container, labels)"
   ]
  },
  {
   "attachments": {},
   "cell_type": "markdown",
   "metadata": {},
   "source": [
    "---\n",
    "## Get Hashtags in Tweets"
   ]
  },
  {
   "cell_type": "code",
   "execution_count": 8,
   "metadata": {},
   "outputs": [
    {
     "name": "stdout",
     "output_type": "stream",
     "text": [
      "Connecting to PostgreSQL database...\n",
      "Successfully connected to localhost:5432\n"
     ]
    }
   ],
   "source": [
    "from pipeline.src.utils import es_connect, pg_connect, get_project_root\n",
    "import json\n",
    "\n",
    "pg_client = pg_connect(credentials=config[\"POSTGRES\"])\n",
    "pg_cursor = pg_client.cursor()"
   ]
  },
  {
   "cell_type": "code",
   "execution_count": 5,
   "metadata": {},
   "outputs": [
    {
     "data": {
      "text/plain": [
       "[(1421607583631171593,\n",
       "  0,\n",
       "  0,\n",
       "  1,\n",
       "  datetime.datetime(2021, 8, 1, 1, 3, 54, tzinfo=datetime.timezone(datetime.timedelta(seconds=7200))),\n",
       "  '@StillePost6 @Alice_Weidel @Tino_Chrupalla @StBrandner @MdB_Lucassen Super. Klarnamenverweigerer und FalscheGräfinRetweeter.',\n",
       "  [None],\n",
       "  9),\n",
       " (1421609361080733702,\n",
       "  0,\n",
       "  1,\n",
       "  0,\n",
       "  datetime.datetime(2021, 8, 1, 1, 10, 58, tzinfo=datetime.timezone(datetime.timedelta(seconds=7200))),\n",
       "  '@DannyHillborou1 @Bettina_Jarasch @kaddinsky @GrueneFraktionB Knappheit? Anzahl Wohnungen stieg in den letzten 30 Jahren schneller als die der Einwohner. Wohnfläche je Einwohner von ca. 27 auf 40qm heute. Mietpreise vervielfacht.\\n50fache war nicht der Spitzenwert.\\n\"Möbliert\" &amp; befristet - Umgehung mietrechtlicher Beschränkungen. Massenhaft.',\n",
       "  [None],\n",
       "  40),\n",
       " (1421609691956797444,\n",
       "  0,\n",
       "  11,\n",
       "  9,\n",
       "  datetime.datetime(2021, 8, 1, 1, 12, 17, tzinfo=datetime.timezone(datetime.timedelta(seconds=7200))),\n",
       "  '@CarloMasala1 Das ist der Punkt. Dieser Kurs wird aber teuer für die nächste Generation. Ich finde das ein bisschen fies den Jungen gegenüber. 1-2 Mal impfen lassen könnte drin sein für das Gemeinwesen.',\n",
       "  [None],\n",
       "  33),\n",
       " (1421610576103591937,\n",
       "  1,\n",
       "  0,\n",
       "  0,\n",
       "  datetime.datetime(2021, 8, 1, 1, 15, 48, tzinfo=datetime.timezone(datetime.timedelta(seconds=7200))),\n",
       "  'RT @WAZDuisburg: CSD: 800 Duisburger fordern mehr Rechte und Toleranz https://t.co/V9EEMzvWev',\n",
       "  [None],\n",
       "  11),\n",
       " (1421611353744236550,\n",
       "  139,\n",
       "  530,\n",
       "  2069,\n",
       "  datetime.datetime(2021, 8, 1, 1, 18, 53, tzinfo=datetime.timezone(datetime.timedelta(seconds=7200))),\n",
       "  'Heute ist #Nawalny 197 Tage in Haft. Es darf nicht in Vergessenheit geraten. #FreeNavalny CL',\n",
       "  ['nawalny', 'freenavalny'],\n",
       "  15),\n",
       " (1421612098799480834,\n",
       "  0,\n",
       "  0,\n",
       "  0,\n",
       "  datetime.datetime(2021, 8, 1, 1, 21, 51, tzinfo=datetime.timezone(datetime.timedelta(seconds=7200))),\n",
       "  '@Watch_Greens @GYGeorg @Ende__Gelaende @micha_bloss Warum? Für mich als Europaabgeordnete, die u.a. zum Thema Gas und Methanemissionen arbeitet, ist die Antwort ohnehin klar, und in allen deutschen Bundesländern wird Erdgas verbraucht, was MdL mE ebenfalls legitimiert.',\n",
       "  [None],\n",
       "  35),\n",
       " (1421614265799151618,\n",
       "  227,\n",
       "  79,\n",
       "  1653,\n",
       "  datetime.datetime(2021, 8, 1, 1, 30, 27, tzinfo=datetime.timezone(datetime.timedelta(seconds=7200))),\n",
       "  'Cash is king! Phillip #Amthor ist käuflich! https://t.co/JW4Lh2x9Ig #TikTok #PhllipAmthor',\n",
       "  ['amthor', 'tiktok', 'phllipamthor'],\n",
       "  10),\n",
       " (1421615557925867529,\n",
       "  0,\n",
       "  1,\n",
       "  0,\n",
       "  datetime.datetime(2021, 8, 1, 1, 35, 36, tzinfo=datetime.timezone(datetime.timedelta(seconds=7200))),\n",
       "  '@RobertSchmitt Das ist schon so gewollt, wie es da steht.',\n",
       "  [None],\n",
       "  10),\n",
       " (1421616575325614080,\n",
       "  35,\n",
       "  0,\n",
       "  0,\n",
       "  datetime.datetime(2021, 8, 1, 1, 39, 38, tzinfo=datetime.timezone(datetime.timedelta(seconds=7200))),\n",
       "  'RT @ManuelaSchwesig: Heute bin ich mit @olafscholz in Ueckermünde, Anklam und Stralsund unterwegs. Kein Kandidat hat sich bisher so sehr für die Menschen in Ostdeutschland eingesetzt wie Olaf Scholz. Er ist unser Mann für das Kanzleramt. Ich unterstütze ihn gerne! #gemeinsaMVoran https://t.co/cKz5ypM8hu',\n",
       "  ['gemeinsamvoran'],\n",
       "  42),\n",
       " (1421622473867603969,\n",
       "  845,\n",
       "  0,\n",
       "  0,\n",
       "  datetime.datetime(2021, 8, 1, 2, 3, 4, tzinfo=datetime.timezone(datetime.timedelta(seconds=7200))),\n",
       "  'RT @karlheinz_e: Die richtige Reaktion gegenüber Rassisten #noafd 😂🤣 https://t.co/l5sQTR8ZvQ',\n",
       "  ['noafd'],\n",
       "  10)]"
      ]
     },
     "execution_count": 5,
     "metadata": {},
     "output_type": "execute_result"
    }
   ],
   "source": [
    "query_1 = (\n",
    "    \"SELECT *, STRING_AGG(ht.txt,' ') AS hashtags \"\n",
    "    \"FROM tweet tw \"\n",
    "    \"LEFT OUTER JOIN hashtag_posting hp ON hp.tweet_id = tw.id \"\n",
    "    \"LEFT OUTER JOIN hashtag ht ON ht.id = hp.hashtag_id \"\n",
    "    \"GROUP BY tw.id \"\n",
    "    \"LIMIT 10\"\n",
    ")\n",
    "\n",
    "query_2 = (\n",
    "    #\"SELECT count(*) FROM ( \"\n",
    "    \"SELECT tw.id, tw.retweet_count, tw.reply_count, tw.like_count, tw.created_at, tw.txt, array_agg(ht.txt) AS hashtags, array_length(string_to_array(regexp_replace(tw.txt,  '[^\\w\\s]', '', 'g'), ' '), 1) AS word_count \"\n",
    "    \"FROM tweet tw \"\n",
    "    \"LEFT OUTER JOIN hashtag_posting hp ON hp.tweet_id = tw.id \"\n",
    "    \"LEFT OUTER JOIN hashtag ht ON ht.id = hp.hashtag_id \"\n",
    "    \"GROUP BY tw.id \"\n",
    "    #\") as q \"\n",
    "    #f\"WHERE q.word_count >= {25} \"\n",
    ")\n",
    "\n",
    "query_3 = (\n",
    "    \"Select count(*) from ( \"\n",
    "    \"SELECT array_length(string_to_array(regexp_replace(txt,  '[^\\w\\s]', '', 'g'), ' '), 1) AS word_count FROM tweet \"\n",
    "    \") as q \"\n",
    "    \"where q.word_count >= 25\"\n",
    ")\n",
    "\n",
    "pg_cursor.execute(query=query_2)\n",
    "pg_cursor.fetchmany(10)"
   ]
  }
 ],
 "metadata": {
  "kernelspec": {
   "display_name": "Python 3.10.6 ('twitter-query-expansion-tWkdo8vh')",
   "language": "python",
   "name": "python3"
  },
  "language_info": {
   "codemirror_mode": {
    "name": "ipython",
    "version": 3
   },
   "file_extension": ".py",
   "mimetype": "text/x-python",
   "name": "python",
   "nbconvert_exporter": "python",
   "pygments_lexer": "ipython3",
   "version": "3.10.6 (main, Nov 14 2022, 16:10:14) [GCC 11.3.0]"
  },
  "orig_nbformat": 4,
  "vscode": {
   "interpreter": {
    "hash": "d9ad3c02dd4b61e1f3ed1e38bd9b3b7a8e15a3f55cb03b1470e9f32af9138128"
   }
  }
 },
 "nbformat": 4,
 "nbformat_minor": 2
}
