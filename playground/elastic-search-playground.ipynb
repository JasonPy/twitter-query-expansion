{
 "cells": [
  {
   "cell_type": "markdown",
   "metadata": {},
   "source": [
    "# Elastic Search Playground\n",
    "First, load the credentials to connect the elastic search client and the posgres database. "
   ]
  },
  {
   "cell_type": "code",
   "execution_count": 1,
   "metadata": {},
   "outputs": [
    {
     "name": "stdout",
     "output_type": "stream",
     "text": [
      "/home/jsonpy/Projects/Practical/twitter-query-expansion\n"
     ]
    }
   ],
   "source": [
    "import os\n",
    "\n",
    "# workaround: change the working directory to the root of the project\n",
    "os.chdir(\"../\")\n",
    "print(os.getcwd())"
   ]
  },
  {
   "cell_type": "code",
   "execution_count": 10,
   "metadata": {},
   "outputs": [
    {
     "data": {
      "text/plain": [
       "['auth/es-credentials.ini']"
      ]
     },
     "execution_count": 10,
     "metadata": {},
     "output_type": "execute_result"
    }
   ],
   "source": [
    "import psycopg2\n",
    "import sys\n",
    "import json\n",
    "\n",
    "from src.utils import get_project_root, es_connect\n",
    "from elasticsearch import Elasticsearch\n",
    "import configparser\n",
    "\n",
    "config = configparser.ConfigParser()\n",
    "config.read('auth/es-credentials.ini')"
   ]
  },
  {
   "attachments": {},
   "cell_type": "markdown",
   "metadata": {},
   "source": [
    "Check if the Elastic Search instance is running by using the elastic search python library"
   ]
  },
  {
   "cell_type": "code",
   "execution_count": 11,
   "metadata": {},
   "outputs": [
    {
     "name": "stdout",
     "output_type": "stream",
     "text": [
      "Connecting to Elastic Search...\n",
      "Successfully connected to https://localhost:9200\n"
     ]
    },
    {
     "data": {
      "text/plain": [
       "ObjectApiResponse({'name': 'f6240d32ea65', 'cluster_name': 'docker-cluster', 'cluster_uuid': 'YIiFu2p-QOWJhSPb-Zcavw', 'version': {'number': '8.5.2', 'build_flavor': 'default', 'build_type': 'docker', 'build_hash': 'a846182fa16b4ebfcc89aa3c11a11fd5adf3de04', 'build_date': '2022-11-17T18:56:17.538630285Z', 'build_snapshot': False, 'lucene_version': '9.4.1', 'minimum_wire_compatibility_version': '7.17.0', 'minimum_index_compatibility_version': '7.0.0'}, 'tagline': 'You Know, for Search'})"
      ]
     },
     "execution_count": 11,
     "metadata": {},
     "output_type": "execute_result"
    }
   ],
   "source": [
    "# connect to elastic instance\n",
    "es_client = es_connect(credentials=config['ELASTIC'])\n",
    "es_client.info()"
   ]
  },
  {
   "attachments": {},
   "cell_type": "markdown",
   "metadata": {},
   "source": [
    "---\n",
    "## Create Index"
   ]
  },
  {
   "cell_type": "code",
   "execution_count": 6,
   "metadata": {},
   "outputs": [
    {
     "data": {
      "text/plain": [
       "ObjectApiResponse({'acknowledged': True, 'shards_acknowledged': True, 'index': 'test'})"
      ]
     },
     "execution_count": 6,
     "metadata": {},
     "output_type": "execute_result"
    }
   ],
   "source": [
    "es_client.indices.create(index=\"test\")"
   ]
  },
  {
   "cell_type": "markdown",
   "metadata": {},
   "source": [
    "## Delete Index"
   ]
  },
  {
   "cell_type": "code",
   "execution_count": 7,
   "metadata": {},
   "outputs": [
    {
     "data": {
      "text/plain": [
       "ObjectApiResponse({'acknowledged': True})"
      ]
     },
     "execution_count": 7,
     "metadata": {},
     "output_type": "execute_result"
    }
   ],
   "source": [
    "es_client.indices.delete(index=\"test\")"
   ]
  },
  {
   "attachments": {},
   "cell_type": "markdown",
   "metadata": {},
   "source": [
    "---\n",
    "## Using Analyzer and Settings"
   ]
  },
  {
   "cell_type": "code",
   "execution_count": 5,
   "metadata": {},
   "outputs": [],
   "source": [
    "es_config = json.load(open('config/es-config.conf'))"
   ]
  },
  {
   "cell_type": "code",
   "execution_count": null,
   "metadata": {},
   "outputs": [],
   "source": [
    "es_client.indices.create(index=\"test\", settings=es_config[\"settings\"], mappings=es_config[\"mappings\"])"
   ]
  },
  {
   "cell_type": "code",
   "execution_count": 32,
   "metadata": {},
   "outputs": [],
   "source": [
    "txt = \" RT @PeterPan 500 Millionen und 17,30€ 'bin' <b>Merkel's</b> als #Leben#SPD_VM #liebte#um 19:30 Uhr Millionen  möchte liebten liebte lieb\""
   ]
  },
  {
   "cell_type": "code",
   "execution_count": 33,
   "metadata": {},
   "outputs": [
    {
     "name": "stdout",
     "output_type": "stream",
     "text": [
      "_retweet_\n",
      "_user_peterpan\n",
      "500\n",
      "million\n",
      "17\n",
      "30€\n",
      "merkel\n",
      "_hashtag_leben\n",
      "_hashtag_spd_vm\n",
      "_hashtag_liebte\n",
      "_hashtag_um\n",
      "19:30\n",
      "uhr\n",
      "mocht\n",
      "liebt\n",
      "lieb\n"
     ]
    }
   ],
   "source": [
    "res = es_client.indices.analyze(index=\"tweets_30\", analyzer=\"tweet_analyzer\", text=txt)\n",
    "\n",
    "for i, doc in enumerate(res[\"tokens\"]):\n",
    "    print(f\"{doc['token']}\")"
   ]
  },
  {
   "attachments": {},
   "cell_type": "markdown",
   "metadata": {},
   "source": [
    "Now we want to feed data from the Twitter PostgreSQL database into Elastic Search. Therefore use the script provided within the `src` folder."
   ]
  },
  {
   "cell_type": "markdown",
   "metadata": {},
   "source": [
    "---\n",
    "## Search data"
   ]
  },
  {
   "cell_type": "code",
   "execution_count": 54,
   "metadata": {},
   "outputs": [],
   "source": [
    "es_query = {\n",
    "      \"match\": {\n",
    "        \"txt\": \"Maß Bier\"\n",
    "    }\n",
    "}\n"
   ]
  },
  {
   "cell_type": "code",
   "execution_count": 55,
   "metadata": {},
   "outputs": [
    {
     "data": {
      "text/plain": [
       "[{'_index': 'tweets_with_first_analyzer',\n",
       "  '_id': 'wghVAoUBeMc1F03S-U3A',\n",
       "  '_score': 17.26957,\n",
       "  '_source': {'id': 1443707088392409095,\n",
       "   'conversation_id': 1443707088392409095,\n",
       "   'author_id': 235703405,\n",
       "   'retweet_count': 6,\n",
       "   'reply_count': 5,\n",
       "   'like_count': 82,\n",
       "   'created_at': '2021-10-01T00:39:27+02:00',\n",
       "   'txt': 'Ich finde, CSU’ler wie #Ramsauer wären auf dem Oktoberfest bei einem Schweinshaxen und einer Maß Bier besser aufgehoben als bei einer Talkshow von Markus #Lanz!'}},\n",
       " {'_index': 'tweets_with_first_analyzer',\n",
       "  '_id': 'DQpXAoUBeMc1F03SA2es',\n",
       "  '_score': 9.787772,\n",
       "  '_source': {'id': 1423614844863979527,\n",
       "   'conversation_id': 1423614844863979527,\n",
       "   'author_id': 940691491835564033,\n",
       "   'retweet_count': 1,\n",
       "   'reply_count': 0,\n",
       "   'like_count': 9,\n",
       "   'created_at': '2021-08-06T14:00:03+02:00',\n",
       "   'txt': 'Heute ist der Internationale Tag des #Bieres, d.h.:\\n1️⃣ #Freunde treffen, um gemeinsam Bier zu genießen.\\n2️⃣Die Männer und Frauen zu ehren, welche das Bier brauen und servieren.\\n3️⃣Biere aller Nationen und Kulturen zu feiern und damit die Welt zu #vereinen. In diesem Sinne, Prost 🍻 https://t.co/bLOUHjIX5Y'}}]"
      ]
     },
     "execution_count": 55,
     "metadata": {},
     "output_type": "execute_result"
    }
   ],
   "source": [
    "res = es_client.search(index=\"tweets_with_first_analyzer\", size=2, query=es_query)\n",
    "res[\"hits\"][\"hits\"]"
   ]
  },
  {
   "cell_type": "code",
   "execution_count": null,
   "metadata": {},
   "outputs": [],
   "source": []
  }
 ],
 "metadata": {
  "kernelspec": {
   "display_name": "Python 3.10.6 ('twitter-query-expansion-tWkdo8vh')",
   "language": "python",
   "name": "python3"
  },
  "language_info": {
   "codemirror_mode": {
    "name": "ipython",
    "version": 3
   },
   "file_extension": ".py",
   "mimetype": "text/x-python",
   "name": "python",
   "nbconvert_exporter": "python",
   "pygments_lexer": "ipython3",
   "version": "3.10.6"
  },
  "orig_nbformat": 4,
  "vscode": {
   "interpreter": {
    "hash": "d9ad3c02dd4b61e1f3ed1e38bd9b3b7a8e15a3f55cb03b1470e9f32af9138128"
   }
  }
 },
 "nbformat": 4,
 "nbformat_minor": 2
}
