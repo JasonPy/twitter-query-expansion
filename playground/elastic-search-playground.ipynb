{
 "cells": [
  {
   "cell_type": "markdown",
   "metadata": {},
   "source": [
    "# Elastic Search Playground\n",
    "First, load the credentials to connect the elastic search client and the posgres database. "
   ]
  },
  {
   "cell_type": "code",
   "execution_count": 2,
   "metadata": {},
   "outputs": [
    {
     "name": "stdout",
     "output_type": "stream",
     "text": [
      "/home/jsonpy/Projects/Practical/twitter-query-expansion\n"
     ]
    }
   ],
   "source": [
    "import os\n",
    "\n",
    "# workaround: change the working directory to the root of the project\n",
    "os.chdir(\"../\")\n",
    "print(os.getcwd())"
   ]
  },
  {
   "cell_type": "code",
   "execution_count": 6,
   "metadata": {},
   "outputs": [
    {
     "data": {
      "text/plain": [
       "['auth/es-credentials.ini']"
      ]
     },
     "execution_count": 6,
     "metadata": {},
     "output_type": "execute_result"
    }
   ],
   "source": [
    "import psycopg2\n",
    "import sys\n",
    "import json\n",
    "\n",
    "from pipeline.src.utils import es_connect\n",
    "from elasticsearch import Elasticsearch\n",
    "import configparser\n",
    "\n",
    "config = configparser.ConfigParser()\n",
    "config.read('auth/es-credentials.ini')"
   ]
  },
  {
   "attachments": {},
   "cell_type": "markdown",
   "metadata": {},
   "source": [
    "Check if the Elastic Search instance is running by using the elastic search python library"
   ]
  },
  {
   "cell_type": "code",
   "execution_count": 7,
   "metadata": {},
   "outputs": [
    {
     "name": "stdout",
     "output_type": "stream",
     "text": [
      "Connecting to Elastic Search...\n",
      "Successfully connected to https://localhost:9200\n"
     ]
    },
    {
     "data": {
      "text/plain": [
       "ObjectApiResponse({'name': 'f6240d32ea65', 'cluster_name': 'docker-cluster', 'cluster_uuid': 'YIiFu2p-QOWJhSPb-Zcavw', 'version': {'number': '8.5.2', 'build_flavor': 'default', 'build_type': 'docker', 'build_hash': 'a846182fa16b4ebfcc89aa3c11a11fd5adf3de04', 'build_date': '2022-11-17T18:56:17.538630285Z', 'build_snapshot': False, 'lucene_version': '9.4.1', 'minimum_wire_compatibility_version': '7.17.0', 'minimum_index_compatibility_version': '7.0.0'}, 'tagline': 'You Know, for Search'})"
      ]
     },
     "execution_count": 7,
     "metadata": {},
     "output_type": "execute_result"
    }
   ],
   "source": [
    "# connect to elastic instance\n",
    "es_client = es_connect(credentials=config['ELASTIC'])\n",
    "es_client.info()"
   ]
  },
  {
   "attachments": {},
   "cell_type": "markdown",
   "metadata": {},
   "source": [
    "---\n",
    "## Create or Delete Index"
   ]
  },
  {
   "cell_type": "code",
   "execution_count": 6,
   "metadata": {},
   "outputs": [
    {
     "data": {
      "text/plain": [
       "ObjectApiResponse({'acknowledged': True, 'shards_acknowledged': True, 'index': 'test'})"
      ]
     },
     "execution_count": 6,
     "metadata": {},
     "output_type": "execute_result"
    }
   ],
   "source": [
    "es_client.indices.create(index=\"test\")"
   ]
  },
  {
   "cell_type": "code",
   "execution_count": 7,
   "metadata": {},
   "outputs": [
    {
     "data": {
      "text/plain": [
       "ObjectApiResponse({'acknowledged': True})"
      ]
     },
     "execution_count": 7,
     "metadata": {},
     "output_type": "execute_result"
    }
   ],
   "source": [
    "es_client.indices.delete(index=\"test\")"
   ]
  },
  {
   "attachments": {},
   "cell_type": "markdown",
   "metadata": {},
   "source": [
    "---\n",
    "## Using Analyzer and Settings"
   ]
  },
  {
   "cell_type": "code",
   "execution_count": 8,
   "metadata": {},
   "outputs": [],
   "source": [
    "es_config = json.load(open('config/es-config.conf'))"
   ]
  },
  {
   "cell_type": "code",
   "execution_count": null,
   "metadata": {},
   "outputs": [],
   "source": [
    "es_client.indices.create(index=\"test\", settings=es_config[\"settings\"], mappings=es_config[\"mappings\"])"
   ]
  },
  {
   "cell_type": "code",
   "execution_count": 55,
   "metadata": {},
   "outputs": [],
   "source": [
    "txt = \" RT @PeterPan 500 Millionen und 17,30€ 'bin' <b>Merkel's</b> als #Leben#SPD_VM #liebte#um 19:30 Uhr Millionen  möchte liebten liebte lieb\""
   ]
  },
  {
   "cell_type": "code",
   "execution_count": 56,
   "metadata": {},
   "outputs": [
    {
     "name": "stdout",
     "output_type": "stream",
     "text": [
      "148\n",
      "_re\n",
      "_ret\n",
      "_retw\n",
      "_retwe\n",
      "_retwee\n",
      "_retweet\n",
      "ret\n",
      "retw\n",
      "retwe\n",
      "retwee\n",
      "retweet\n",
      "retweet_\n",
      "etw\n",
      "etwe\n",
      "etwee\n",
      "etweet\n",
      "etweet_\n",
      "twe\n",
      "twee\n",
      "tweet\n",
      "tweet_\n",
      "wee\n",
      "weet\n",
      "weet_\n",
      "eet\n",
      "eet_\n",
      "et_\n",
      "_retweet_\n",
      "_us\n",
      "_use\n",
      "_user\n",
      "_user_\n",
      "_user_p\n",
      "_user_pe\n",
      "use\n",
      "user\n",
      "user_\n",
      "user_p\n",
      "user_pe\n",
      "user_pet\n",
      "ser\n",
      "ser_\n",
      "ser_p\n",
      "ser_pe\n",
      "ser_pet\n",
      "ser_pete\n",
      "er_\n",
      "er_p\n",
      "er_pe\n",
      "er_pet\n",
      "er_pete\n",
      "er_peter\n",
      "r_p\n",
      "r_pe\n",
      "r_pet\n",
      "r_pete\n",
      "r_peter\n",
      "r_peterp\n",
      "_pe\n",
      "_pet\n",
      "_pete\n",
      "_peter\n",
      "_peterp\n",
      "_peterpa\n",
      "pet\n",
      "pete\n",
      "peter\n",
      "peterp\n",
      "peterpa\n",
      "peterpan\n",
      "ete\n",
      "eter\n",
      "eterp\n",
      "eterpa\n",
      "eterpan\n",
      "ter\n",
      "terp\n",
      "terpa\n",
      "terpan\n",
      "erp\n",
      "erpa\n",
      "erpan\n",
      "rpa\n",
      "rpan\n",
      "pan\n",
      "_user_peterpan\n",
      "500\n",
      "mil\n",
      "mill\n",
      "milli\n",
      "millio\n",
      "million\n",
      "ill\n",
      "illi\n",
      "illio\n",
      "illion\n",
      "lli\n",
      "llio\n",
      "llion\n",
      "lio\n",
      "lion\n",
      "ion\n",
      "one\n",
      "onen\n",
      "nen\n",
      "17\n",
      "30€\n",
      "mer\n",
      "merk\n",
      "merkel\n",
      "erk\n",
      "erkel\n",
      "rke\n",
      "rkel\n",
      "kel\n",
      "leb\n",
      "ebe\n",
      "eben\n",
      "ben\n",
      "spd\n",
      "spd_\n",
      "spd_v\n",
      "spd_vm\n",
      "pd_\n",
      "pd_v\n",
      "pd_vm\n",
      "d_v\n",
      "d_vm\n",
      "_vm\n",
      "lie\n",
      "lieb\n",
      "liebt\n",
      "ieb\n",
      "iebt\n",
      "ebt\n",
      "bte\n",
      "19\n",
      "30\n",
      "uhr\n",
      "moc\n",
      "moch\n",
      "mocht\n",
      "och\n",
      "ocht\n",
      "cht\n",
      "hte\n",
      "bten\n",
      "ten\n"
     ]
    }
   ],
   "source": [
    "res = es_client.indices.analyze(index=\"tweets_kw\", analyzer=\"tweet_analyzer\", text=txt)\n",
    "print(len(res[\"tokens\"]))\n",
    "for i, doc in enumerate(res[\"tokens\"]):\n",
    "    print(f\"{doc['token']}\")"
   ]
  },
  {
   "attachments": {},
   "cell_type": "markdown",
   "metadata": {},
   "source": [
    "Now we want to feed data from the Twitter PostgreSQL database into Elastic Search. Therefore use the script provided within the `src` folder."
   ]
  },
  {
   "cell_type": "markdown",
   "metadata": {},
   "source": [
    "---\n",
    "## Search data"
   ]
  },
  {
   "cell_type": "code",
   "execution_count": 52,
   "metadata": {},
   "outputs": [
    {
     "data": {
      "text/plain": [
       "{'size': 10,\n",
       " 'query': {'bool': {'should': {'match': {'txt': {'query': 'große Koalition gescheitert Merkel',\n",
       "      'operator': 'OR'}}},\n",
       "   'must': {'terms_set': {'hashtags': {'terms': ['cdu', 'groko'],\n",
       "      'minimum_should_match_script': {'source': 'Math.min(params.num_terms, 1)'}}}},\n",
       "   'must_not': {'term': {'txt': '_retweet_'}}}},\n",
       " 'aggs': {'sample': {'sampler': {'shard_size': 500},\n",
       "   'aggs': {'keywords': {'significant_terms': {'field': 'hashtags'}}}}},\n",
       " 'collapse': {},\n",
       " 'sort': {}}"
      ]
     },
     "execution_count": 52,
     "metadata": {},
     "output_type": "execute_result"
    }
   ],
   "source": [
    "es_query = json.load(open('config/example-query.conf'))\n",
    "es_query"
   ]
  },
  {
   "cell_type": "code",
   "execution_count": 53,
   "metadata": {},
   "outputs": [
    {
     "name": "stdout",
     "output_type": "stream",
     "text": [
      "Total Hits: 1555\n"
     ]
    },
    {
     "data": {
      "text/plain": [
       "[{'_index': 'tweets_kw',\n",
       "  '_id': '1433501203418259460',\n",
       "  '_score': 20.296646,\n",
       "  '_source': {'retweet_count': 28,\n",
       "   'reply_count': 7,\n",
       "   'like_count': 191,\n",
       "   'created_at': '2021-09-02T20:44:54+02:00',\n",
       "   'txt': 'Das Versagen der #GroKo #cdu #spd in einem Tweet \\n👎🏼Parteitaktik über alles \\n👎🏼in 4 J. keine wirkliche Reform hinbekommen\\n👎🏼 Oppositionsvorschl. wie immer abgelehnt \\n\\n👎🏼👎🏼 Konsequenz: evtl über 900 MdB inkl. riesiger Kosten &amp; Chaos https://t.co/K9s1T8dVH5',\n",
       "   'hashtags': ['spd', 'cdu', 'groko'],\n",
       "   'word_count': 35}},\n",
       " {'_index': 'tweets_kw',\n",
       "  '_id': '1431971185521217542',\n",
       "  '_score': 19.17094,\n",
       "  '_source': {'retweet_count': 42,\n",
       "   'reply_count': 17,\n",
       "   'like_count': 350,\n",
       "   'created_at': '2021-08-29T15:25:10+02:00',\n",
       "   'txt': 'Von den letzten 16 Jahren hat die #SPD 12 Jahre mit der #CDU regiert. Die #SPD hat Scholz mit großem Getöse nicht zum Parteivorsitzenden gewählt,mit dem Argument,er stünde für die #GroKo Jetzt ist er Kanzlerkandidat und kokettiert offen damit merkellike zu sein.Die Wahrheit ist:',\n",
       "   'hashtags': ['spd', 'spd', 'cdu', 'groko'],\n",
       "   'word_count': 44}},\n",
       " {'_index': 'tweets_kw',\n",
       "  '_id': '1433397668215234562',\n",
       "  '_score': 17.626911,\n",
       "  '_source': {'retweet_count': 2,\n",
       "   'reply_count': 1,\n",
       "   'like_count': 9,\n",
       "   'created_at': '2021-09-02T13:53:30+02:00',\n",
       "   'txt': 'Neue Umfragen ergeben Desaster für #CDU #CSU. #Laschet verursacht historisches Tief. #Grüne und #SPD legen beide zu. RGR hat mit 51 % absolute Mehrheit, aber auch SPD geführte Groko!\\nJetzt #GRÜNE stark machen, damit SPD nicht #Groko  mit #Merz #Maassen #Laschet macht. https://t.co/hnCox5n5QT',\n",
       "   'hashtags': ['spd',\n",
       "    'laschet',\n",
       "    'laschet',\n",
       "    'cdu',\n",
       "    'csu',\n",
       "    'grüne',\n",
       "    'grüne',\n",
       "    'maassen',\n",
       "    'groko',\n",
       "    'merz'],\n",
       "   'word_count': 43}},\n",
       " {'_index': 'tweets_kw',\n",
       "  '_id': '1432063526407966726',\n",
       "  '_score': 17.35511,\n",
       "  '_source': {'retweet_count': 27,\n",
       "   'reply_count': 5,\n",
       "   'like_count': 124,\n",
       "   'created_at': '2021-08-29T21:32:05+02:00',\n",
       "   'txt': 'Noch mal für die #btw21 - Ergebnis der #GroKo - Umverteilung von Unten und Mitte nach Oben \\n\\ndies wollen #fdp und #cdu noch verstärken - von wegen Mitte entlasten 🤥🤥 https://t.co/47TLu25Hhk',\n",
       "   'hashtags': ['cdu', 'fdp', 'btw21', 'groko'],\n",
       "   'word_count': 31}},\n",
       " {'_index': 'tweets_kw',\n",
       "  '_id': '1427154178208587779',\n",
       "  '_score': 17.002808,\n",
       "  '_source': {'retweet_count': 2,\n",
       "   'reply_count': 2,\n",
       "   'like_count': 7,\n",
       "   'created_at': '2021-08-16T08:24:05+02:00',\n",
       "   'txt': '#Afghanistan Katastrophe mit Ansage. 20 Jahre die Dienste der Menschen dort in Anspruch genommen. Außenpolitik der #Bundesregierung =0. Holt alle Menschen in Not raus aus Afghanistan.  #Groko #SPD #CDU wiederholt nicht die Fehler aus Juni 21! @GrueneBundestag @JTrittin @KatjaKeul https://t.co/cG6XYpDYQR',\n",
       "   'hashtags': ['spd', 'cdu', 'afghanistan', 'bundesregierung', 'groko'],\n",
       "   'word_count': 41}}]"
      ]
     },
     "execution_count": 53,
     "metadata": {},
     "output_type": "execute_result"
    }
   ],
   "source": [
    "res = es_client.search(index=\"tweets_kw\", size=5, query=es_query[\"query\"], aggregations=es_query[\"aggs\"])\n",
    "\n",
    "print(\"Total Hits:\", res[\"hits\"][\"total\"][\"value\"])\n",
    "res[\"hits\"][\"hits\"]"
   ]
  },
  {
   "attachments": {},
   "cell_type": "markdown",
   "metadata": {},
   "source": [
    "---\n",
    "## Data Aggregation"
   ]
  },
  {
   "cell_type": "code",
   "execution_count": 38,
   "metadata": {},
   "outputs": [
    {
     "data": {
      "text/plain": [
       "{'size': 10,\n",
       " 'query': {'bool': {'should': {'query_string': {'query': 'corona',\n",
       "     'fields': ['hashtags', 'txt'],\n",
       "     'default_operator': 'OR'}},\n",
       "   'must_not': {'term': {'txt': '_retweet_'}}}},\n",
       " 'aggs': {'sample': {'sampler': {'shard_size': 500},\n",
       "   'aggs': {'keywords': {'significant_terms': {'field': 'hashtags'}}}}},\n",
       " 'collapse': {},\n",
       " 'sort': {}}"
      ]
     },
     "execution_count": 38,
     "metadata": {},
     "output_type": "execute_result"
    }
   ],
   "source": [
    "es_query = json.load(open('config/example-query.conf'))\n",
    "es_query"
   ]
  },
  {
   "cell_type": "code",
   "execution_count": 39,
   "metadata": {},
   "outputs": [
    {
     "name": "stdout",
     "output_type": "stream",
     "text": [
      "Total Hits: [{'key': 'corona', 'doc_count': 534, 'score': 8.000855488631489, 'bg_count': 2331}, {'key': 'coronaschutzimpfung', 'doc_count': 50, 'score': 0.9772123602892833, 'bg_count': 169}, {'key': 'coronavirus', 'doc_count': 48, 'score': 0.7320431844660195, 'bg_count': 206}, {'key': 'impfung', 'doc_count': 64, 'score': 0.4892907342627798, 'bg_count': 526}, {'key': 'coronakrise', 'doc_count': 16, 'score': 0.32564294017094014, 'bg_count': 52}, {'key': 'diesmalnpd', 'doc_count': 9, 'score': 0.31949082352941177, 'bg_count': 17}, {'key': 'coronapolitik', 'doc_count': 6, 'score': 0.30340800000000007, 'bg_count': 8}, {'key': 'coronapk', 'doc_count': 4, 'score': 0.2705848888888889, 'bg_count': 4}, {'key': 'füreuchgemeinsamstark', 'doc_count': 8, 'score': 0.23755693827160493, 'bg_count': 18}, {'key': 'delta', 'doc_count': 8, 'score': 0.22477323976608188, 'bg_count': 19}]\n"
     ]
    }
   ],
   "source": [
    "res = es_client.search(index=\"tweets_kw\", query=es_query[\"query\"], aggregations=es_query[\"aggs\"])\n",
    "#print(res)\n",
    "print(\"Total Hits:\", [t for t in res[\"aggregations\"][\"sample\"][\"keywords\"][\"buckets\"]])\n",
    "#res[\"hits\"][\"hits\"]"
   ]
  },
  {
   "cell_type": "code",
   "execution_count": null,
   "metadata": {},
   "outputs": [],
   "source": []
  }
 ],
 "metadata": {
  "kernelspec": {
   "display_name": "Python 3.10.6 ('twitter-query-expansion-tWkdo8vh')",
   "language": "python",
   "name": "python3"
  },
  "language_info": {
   "codemirror_mode": {
    "name": "ipython",
    "version": 3
   },
   "file_extension": ".py",
   "mimetype": "text/x-python",
   "name": "python",
   "nbconvert_exporter": "python",
   "pygments_lexer": "ipython3",
   "version": "3.10.6"
  },
  "orig_nbformat": 4,
  "vscode": {
   "interpreter": {
    "hash": "d9ad3c02dd4b61e1f3ed1e38bd9b3b7a8e15a3f55cb03b1470e9f32af9138128"
   }
  }
 },
 "nbformat": 4,
 "nbformat_minor": 2
}
