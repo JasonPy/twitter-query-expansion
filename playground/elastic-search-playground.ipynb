{
 "cells": [
  {
   "cell_type": "markdown",
   "metadata": {},
   "source": [
    "# Elastic Search Playground\n",
    "First, load the credentials to connect the elastic search client and the posgres database. "
   ]
  },
  {
   "cell_type": "code",
   "execution_count": 1,
   "metadata": {},
   "outputs": [
    {
     "name": "stdout",
     "output_type": "stream",
     "text": [
      "/home/jsonpy/Projects/Practical/twitter-query-expansion\n"
     ]
    }
   ],
   "source": [
    "import os\n",
    "\n",
    "# workaround: change the working directory to the root of the project\n",
    "os.chdir(\"../\")\n",
    "print(os.getcwd())"
   ]
  },
  {
   "cell_type": "code",
   "execution_count": 2,
   "metadata": {},
   "outputs": [
    {
     "data": {
      "text/plain": [
       "['auth/es-credentials.ini']"
      ]
     },
     "execution_count": 2,
     "metadata": {},
     "output_type": "execute_result"
    }
   ],
   "source": [
    "import psycopg2\n",
    "import sys\n",
    "import json\n",
    "\n",
    "from src.utils import get_project_root, es_connect\n",
    "from elasticsearch import Elasticsearch\n",
    "import configparser\n",
    "\n",
    "config = configparser.ConfigParser()\n",
    "config.read('auth/es-credentials.ini')"
   ]
  },
  {
   "attachments": {},
   "cell_type": "markdown",
   "metadata": {},
   "source": [
    "Check if the Elastic Search instance is running by using the elastic search python library"
   ]
  },
  {
   "cell_type": "code",
   "execution_count": 3,
   "metadata": {},
   "outputs": [
    {
     "name": "stdout",
     "output_type": "stream",
     "text": [
      "Connecting to Elastic Search...\n",
      "Successfully connected to https://localhost:9200\n"
     ]
    },
    {
     "data": {
      "text/plain": [
       "ObjectApiResponse({'name': 'f6240d32ea65', 'cluster_name': 'docker-cluster', 'cluster_uuid': 'YIiFu2p-QOWJhSPb-Zcavw', 'version': {'number': '8.5.2', 'build_flavor': 'default', 'build_type': 'docker', 'build_hash': 'a846182fa16b4ebfcc89aa3c11a11fd5adf3de04', 'build_date': '2022-11-17T18:56:17.538630285Z', 'build_snapshot': False, 'lucene_version': '9.4.1', 'minimum_wire_compatibility_version': '7.17.0', 'minimum_index_compatibility_version': '7.0.0'}, 'tagline': 'You Know, for Search'})"
      ]
     },
     "execution_count": 3,
     "metadata": {},
     "output_type": "execute_result"
    }
   ],
   "source": [
    "# connect to elastic instance\n",
    "es_client = es_connect(credentials=config['ELASTIC'])\n",
    "es_client.info()"
   ]
  },
  {
   "attachments": {},
   "cell_type": "markdown",
   "metadata": {},
   "source": [
    "---\n",
    "## Create Index"
   ]
  },
  {
   "cell_type": "code",
   "execution_count": 6,
   "metadata": {},
   "outputs": [
    {
     "data": {
      "text/plain": [
       "ObjectApiResponse({'acknowledged': True, 'shards_acknowledged': True, 'index': 'test'})"
      ]
     },
     "execution_count": 6,
     "metadata": {},
     "output_type": "execute_result"
    }
   ],
   "source": [
    "es_client.indices.create(index=\"test\")"
   ]
  },
  {
   "cell_type": "markdown",
   "metadata": {},
   "source": [
    "## Delete Index"
   ]
  },
  {
   "cell_type": "code",
   "execution_count": 7,
   "metadata": {},
   "outputs": [
    {
     "data": {
      "text/plain": [
       "ObjectApiResponse({'acknowledged': True})"
      ]
     },
     "execution_count": 7,
     "metadata": {},
     "output_type": "execute_result"
    }
   ],
   "source": [
    "es_client.indices.delete(index=\"test\")"
   ]
  },
  {
   "attachments": {},
   "cell_type": "markdown",
   "metadata": {},
   "source": [
    "---\n",
    "## Using Analyzer and Settings"
   ]
  },
  {
   "cell_type": "code",
   "execution_count": 4,
   "metadata": {},
   "outputs": [],
   "source": [
    "es_config = json.load(open('config/es-config.conf'))"
   ]
  },
  {
   "cell_type": "code",
   "execution_count": null,
   "metadata": {},
   "outputs": [],
   "source": [
    "es_client.indices.create(index=\"test\", settings=es_config[\"settings\"], mappings=es_config[\"mappings\"])"
   ]
  },
  {
   "cell_type": "code",
   "execution_count": 5,
   "metadata": {},
   "outputs": [],
   "source": [
    "txt = \" RT @PeterPan 500 Millionen und 17,30€ 'bin' <b>Merkel's</b> als #Leben#SPD_VM #liebte#um 19:30 Uhr Millionen  möchte liebten liebte lieb\""
   ]
  },
  {
   "cell_type": "code",
   "execution_count": 6,
   "metadata": {},
   "outputs": [
    {
     "name": "stdout",
     "output_type": "stream",
     "text": [
      "_retweet_\n",
      "_user_peterpan\n",
      "500\n",
      "million\n",
      "17\n",
      "30€\n",
      "merkel\n",
      "_hashtag_leben\n",
      "_hashtag_spd_vm\n",
      "_hashtag_liebte\n",
      "_hashtag_um\n",
      "19:30\n",
      "uhr\n",
      "mocht\n",
      "liebt\n",
      "lieb\n"
     ]
    }
   ],
   "source": [
    "res = es_client.indices.analyze(index=\"tweets_35\", analyzer=\"tweet_analyzer\", text=txt)\n",
    "\n",
    "for i, doc in enumerate(res[\"tokens\"]):\n",
    "    print(f\"{doc['token']}\")"
   ]
  },
  {
   "attachments": {},
   "cell_type": "markdown",
   "metadata": {},
   "source": [
    "Now we want to feed data from the Twitter PostgreSQL database into Elastic Search. Therefore use the script provided within the `src` folder."
   ]
  },
  {
   "cell_type": "markdown",
   "metadata": {},
   "source": [
    "---\n",
    "## Search data"
   ]
  },
  {
   "cell_type": "code",
   "execution_count": 58,
   "metadata": {},
   "outputs": [
    {
     "data": {
      "text/plain": [
       "{'query': {'bool': {'should': {'query_string': {'query': 'philipp CDU',\n",
       "     'fields': ['txt', 'hashtags^5']}},\n",
       "   'must': [{'term': {'hashtags': 'amthor'}}],\n",
       "   'must_not': {'term': {'txt': '_retweet_'}},\n",
       "   'filter': [{'range': {'created_at': {'lte': '2023-01-01'}}},\n",
       "    {'range': {'created_at': {'gte': '2021-01-01'}}}]}},\n",
       " 'collapse': {},\n",
       " 'sort': {}}"
      ]
     },
     "execution_count": 58,
     "metadata": {},
     "output_type": "execute_result"
    }
   ],
   "source": [
    "es_query = json.load(open('config/es-query.conf'))\n",
    "es_query"
   ]
  },
  {
   "cell_type": "code",
   "execution_count": 61,
   "metadata": {},
   "outputs": [
    {
     "name": "stdout",
     "output_type": "stream",
     "text": [
      "Total Hits: 25\n"
     ]
    },
    {
     "data": {
      "text/plain": [
       "[{'_index': 'tweets_35',\n",
       "  '_id': '1433695794431938589',\n",
       "  '_score': 19.724907,\n",
       "  '_source': {'retweet_count': 15,\n",
       "   'reply_count': 12,\n",
       "   'like_count': 142,\n",
       "   'created_at': '2021-09-03T09:38:08+02:00',\n",
       "   'txt': '\"Philipp #Amthor,  droht gar aus dem Parlament zu fliegen. Das wäre durchaus denkbar, wenn SPD-Kandidat Erik von Malottki oder AfD Mann Enrico Kommning Amthor den Wahlkreis 16 in Vorpommern abnehmen, andere CDU-Leute ihren Wahlkreis aber direkt gewinnen.\" https://t.co/7v2qw6avRB',\n",
       "   'hashtags': ['amthor'],\n",
       "   'word_count': 39}},\n",
       " {'_index': 'tweets_35',\n",
       "  '_id': '1430140941621514252',\n",
       "  '_score': 19.271313,\n",
       "  '_source': {'retweet_count': 14,\n",
       "   'reply_count': 0,\n",
       "   'like_count': 31,\n",
       "   'created_at': '2021-08-24T14:12:25+02:00',\n",
       "   'txt': 'Die Namensliste der Union liest sich noch prominenter. Im Kern gilt hier der Grundsatz, wer seinen \\nWahlkreis in einem Flächenland nicht gewinnt, kommt nicht in den Bundestag: Philipp #Amthor (CDU), Tillman Kuban [...] ziehen \\nnicht in den Bundestag ein. https://t.co/TLNaIdQi1U',\n",
       "   'hashtags': ['amthor'],\n",
       "   'word_count': 40}},\n",
       " {'_index': 'tweets_35',\n",
       "  '_id': '1443555791760416772',\n",
       "  '_score': 16.971132,\n",
       "  '_source': {'retweet_count': 14,\n",
       "   'reply_count': 41,\n",
       "   'like_count': 222,\n",
       "   'created_at': '2021-09-30T14:38:15+02:00',\n",
       "   'txt': 'Wenn wir nicht 2,2 Millionen Stimmen an #spd u #gruene verloren hätten, wäre viele Wahlkreise nicht verloren gegangen. Was wäre erst ohne #Masken, #maassen, #Aserbaidschan u mit etwas mehr sozialem Profil drin gewesen? Ich würde sagen ein Wahlsieg.\\n#cdu\\n#amthor\\n#mutzurmitte\\n#CDU https://t.co/uWwD7UFCcl',\n",
       "   'hashtags': ['spd',\n",
       "    'cdu',\n",
       "    'cdu',\n",
       "    'amthor',\n",
       "    'gruene',\n",
       "    'maassen',\n",
       "    'aserbaidschan',\n",
       "    'masken',\n",
       "    'mutzurmitte'],\n",
       "   'word_count': 39}},\n",
       " {'_index': 'tweets_35',\n",
       "  '_id': '1436678274558709762',\n",
       "  '_score': 16.41521,\n",
       "  '_source': {'retweet_count': 0,\n",
       "   'reply_count': 0,\n",
       "   'like_count': 5,\n",
       "   'created_at': '2021-09-11T15:09:27+02:00',\n",
       "   'txt': '@HollsteinM Und so unglaublich spontan der Satz. Habe ich genau so schon Anfang August von Philipp #Amthor und in der letzten Bundestagsdebatte von Paul #Ziemiak gehört. Scheint der neue \"Kracherslogan\" der Union zu sein. 🙄',\n",
       "   'hashtags': ['amthor', 'ziemiak'],\n",
       "   'word_count': 35}},\n",
       " {'_index': 'tweets_35',\n",
       "  '_id': '1423768472216027136',\n",
       "  '_score': 16.083097,\n",
       "  '_source': {'retweet_count': 282,\n",
       "   'reply_count': 43,\n",
       "   'like_count': 1837,\n",
       "   'created_at': '2021-08-07T00:10:30+02:00',\n",
       "   'txt': 'Seit Beginn des Wahlkampfes fordere ich Philipp #Amthor zu einer inhaltlichen Debatte über die brennenden Themen in unserem Wahlkreis(Löhne, Bildung, Verkehrsinfrastruktur) und das Thema Korruption in der Politik auf. Seit Monaten keine Antwort. Lasse ihn damit nicht durchkommen! https://t.co/vvIfoNmLlZ',\n",
       "   'hashtags': ['amthor'],\n",
       "   'word_count': 39}}]"
      ]
     },
     "execution_count": 61,
     "metadata": {},
     "output_type": "execute_result"
    }
   ],
   "source": [
    "res = es_client.search(index=\"tweets_35\", size=5, query=es_query[\"query\"])\n",
    "\n",
    "print(\"Total Hits:\", res[\"hits\"][\"total\"][\"value\"])\n",
    "res[\"hits\"][\"hits\"]"
   ]
  },
  {
   "cell_type": "code",
   "execution_count": null,
   "metadata": {},
   "outputs": [],
   "source": []
  },
  {
   "cell_type": "code",
   "execution_count": null,
   "metadata": {},
   "outputs": [],
   "source": []
  }
 ],
 "metadata": {
  "kernelspec": {
   "display_name": "Python 3.10.6 ('twitter-query-expansion-tWkdo8vh')",
   "language": "python",
   "name": "python3"
  },
  "language_info": {
   "codemirror_mode": {
    "name": "ipython",
    "version": 3
   },
   "file_extension": ".py",
   "mimetype": "text/x-python",
   "name": "python",
   "nbconvert_exporter": "python",
   "pygments_lexer": "ipython3",
   "version": "3.10.6"
  },
  "orig_nbformat": 4,
  "vscode": {
   "interpreter": {
    "hash": "d9ad3c02dd4b61e1f3ed1e38bd9b3b7a8e15a3f55cb03b1470e9f32af9138128"
   }
  }
 },
 "nbformat": 4,
 "nbformat_minor": 2
}
