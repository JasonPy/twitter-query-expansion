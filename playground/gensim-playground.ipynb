{
 "cells": [
  {
   "cell_type": "markdown",
   "metadata": {},
   "source": [
    "# Gensim Playground"
   ]
  },
  {
   "cell_type": "code",
   "execution_count": 10,
   "metadata": {},
   "outputs": [
    {
     "name": "stdout",
     "output_type": "stream",
     "text": [
      "[==================================================] 100.0% 1662.8/1662.8MB downloaded\n"
     ]
    }
   ],
   "source": [
    "import gensim\n",
    "import gensim.downloader as api\n",
    "\n",
    "# import a sample model based on google news data\n",
    "wv = api.load('word2vec-google-news-300')"
   ]
  },
  {
   "cell_type": "code",
   "execution_count": null,
   "metadata": {},
   "outputs": [],
   "source": [
    "from gensim.models import fasttext\n",
    "\n",
    "# works, but Memory Overflow\n",
    "wv = fasttext.load_facebook_vectors(\"./data/fasttext/cc.de.300.bin\")"
   ]
  },
  {
   "cell_type": "markdown",
   "metadata": {},
   "source": [
    "## Check if a term occurs in the model\n",
    "If a term does not appear in a model, better refer to FastText."
   ]
  },
  {
   "cell_type": "code",
   "execution_count": 20,
   "metadata": {},
   "outputs": [
    {
     "name": "stdout",
     "output_type": "stream",
     "text": [
      "The word 'Kruemelmonster' does not appear in this model\n"
     ]
    }
   ],
   "source": [
    "term = \"Kruemelmonster\"\n",
    "\n",
    "try:\n",
    "    vec = wv[term]\n",
    "except KeyError:\n",
    "    print(f\"The word '{term}' does not appear in this model\")"
   ]
  },
  {
   "cell_type": "markdown",
   "metadata": {},
   "source": [
    "## Estimate similarity of two terms"
   ]
  },
  {
   "cell_type": "code",
   "execution_count": 19,
   "metadata": {},
   "outputs": [
    {
     "data": {
      "text/plain": [
       "0.5157251"
      ]
     },
     "execution_count": 19,
     "metadata": {},
     "output_type": "execute_result"
    }
   ],
   "source": [
    "term_a = \"King\"\n",
    "term_b = \"Queen\"\n",
    "\n",
    "wv.similarity(term_a, term_b)"
   ]
  },
  {
   "cell_type": "markdown",
   "metadata": {},
   "source": [
    "## Get most similar terms for a word"
   ]
  },
  {
   "cell_type": "code",
   "execution_count": 29,
   "metadata": {},
   "outputs": [
    {
     "data": {
      "text/plain": [
       "[('Elephant', 0.5523993968963623),\n",
       " ('Chimpanzee', 0.5286457538604736),\n",
       " ('Reptilian', 0.5237354636192322),\n",
       " ('Baboon', 0.522356390953064),\n",
       " ('Lemurs', 0.4909561276435852)]"
      ]
     },
     "execution_count": 29,
     "metadata": {},
     "output_type": "execute_result"
    }
   ],
   "source": [
    "term_c = \"Ape\"\n",
    "\n",
    "wv.most_similar(positive=[term_c], topn=5)"
   ]
  },
  {
   "cell_type": "markdown",
   "metadata": {},
   "source": [
    "## Some Arithmetics"
   ]
  },
  {
   "cell_type": "code",
   "execution_count": 32,
   "metadata": {},
   "outputs": [
    {
     "data": {
      "text/plain": [
       "'ant'"
      ]
     },
     "execution_count": 32,
     "metadata": {},
     "output_type": "execute_result"
    }
   ],
   "source": [
    "wv.doesnt_match(['ape', 'ant', 'crocodile', 'beaver', 'tortoise', 'bird'])"
   ]
  },
  {
   "cell_type": "code",
   "execution_count": 38,
   "metadata": {},
   "outputs": [
    {
     "data": {
      "text/plain": [
       "[('Paris', 0.748170018196106),\n",
       " ('Cergy_Pontoise', 0.5652572512626648),\n",
       " ('Colombes', 0.5614075660705566),\n",
       " ('Issy_les_Moulineaux', 0.5546000003814697),\n",
       " ('Marseille', 0.5542370676994324)]"
      ]
     },
     "execution_count": 38,
     "metadata": {},
     "output_type": "execute_result"
    }
   ],
   "source": [
    "wv.most_similar(positive=['London', 'France'], negative=['UK'], topn=5)"
   ]
  },
  {
   "cell_type": "markdown",
   "metadata": {},
   "source": [
    "---\n",
    "## Load German Dataset using FastText"
   ]
  },
  {
   "cell_type": "code",
   "execution_count": 1,
   "metadata": {},
   "outputs": [
    {
     "name": "stderr",
     "output_type": "stream",
     "text": [
      "Warning : `load_model` does not return WordVectorModel or SupervisedModel any more, but a `FastText` object which is very similar.\n"
     ]
    }
   ],
   "source": [
    "ft = fasttext.load_model('./data/fasttext/cc.de.300.bin')\n",
    "\n",
    "# fb_model = load_facebook_model(cap_path)\n",
    "\n",
    "#wv_from_bin = KeyedVectors.load_word2vec_format(datapath(\"euclidean_vectors.bin\"), binary=True) "
   ]
  },
  {
   "cell_type": "code",
   "execution_count": 23,
   "metadata": {},
   "outputs": [
    {
     "data": {
      "text/plain": [
       "[(0.5564702749252319, 'Ermordung'),\n",
       " (0.543268084526062, 'Tode'),\n",
       " (0.5286669731140137, 'Ableben'),\n",
       " (0.5214232802391052, 'Mord'),\n",
       " (0.5023371577262878, 'Selbstmord'),\n",
       " (0.4902510643005371, 'Morden'),\n",
       " (0.4876441955566406, 'Missgunst'),\n",
       " (0.4823148548603058, 'Unfalltod'),\n",
       " (0.4769662916660309, 'Verrat'),\n",
       " (0.4704259932041168, 'Feindschaft')]"
      ]
     },
     "execution_count": 23,
     "metadata": {},
     "output_type": "execute_result"
    }
   ],
   "source": [
    "import fasttext\n",
    "ft.get_analogies(\"Hass\", \"Schmerz\", \"Tod\")"
   ]
  },
  {
   "cell_type": "code",
   "execution_count": 28,
   "metadata": {},
   "outputs": [
    {
     "data": {
      "text/plain": [
       "[(0.7368489503860474, 'Proteste'),\n",
       " (0.7336620092391968, 'Protesten'),\n",
       " (0.7261161804199219, 'Massenprotest'),\n",
       " (0.7118237018585205, 'Protests'),\n",
       " (0.7027385234832764, 'Gegenprotest'),\n",
       " (0.6904124021530151, 'Bürgerprotest'),\n",
       " (0.6878296732902527, 'Protestes'),\n",
       " (0.687303364276886, 'Protestaktionen'),\n",
       " (0.686622142791748, 'Protestaktion'),\n",
       " (0.681659996509552, 'Protest-Aktionen'),\n",
       " (0.6711389422416687, 'Protest-Aktion'),\n",
       " (0.6484246253967285, 'Proteststurm'),\n",
       " (0.6464390754699707, 'Protestmarsch'),\n",
       " (0.6449968814849854, 'Proteststreik'),\n",
       " (0.6390209794044495, 'protest')]"
      ]
     },
     "execution_count": 28,
     "metadata": {},
     "output_type": "execute_result"
    }
   ],
   "source": [
    "ft.get_nearest_neighbors(\"Protest\", k=15)"
   ]
  },
  {
   "cell_type": "code",
   "execution_count": null,
   "metadata": {},
   "outputs": [],
   "source": []
  }
 ],
 "metadata": {
  "kernelspec": {
   "display_name": "Python 3.10.6 64-bit",
   "language": "python",
   "name": "python3"
  },
  "language_info": {
   "codemirror_mode": {
    "name": "ipython",
    "version": 3
   },
   "file_extension": ".py",
   "mimetype": "text/x-python",
   "name": "python",
   "nbconvert_exporter": "python",
   "pygments_lexer": "ipython3",
   "version": "3.10.6"
  },
  "orig_nbformat": 4,
  "vscode": {
   "interpreter": {
    "hash": "916dbcbb3f70747c44a77c7bcd40155683ae19c65e1c03b4aa3499c5328201f1"
   }
  }
 },
 "nbformat": 4,
 "nbformat_minor": 2
}
