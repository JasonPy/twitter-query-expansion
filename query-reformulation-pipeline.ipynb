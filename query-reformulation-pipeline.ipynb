{
 "cells": [
  {
   "attachments": {},
   "cell_type": "markdown",
   "metadata": {},
   "source": [
    "# Twitter Query Reformulation\n",
    "..."
   ]
  },
  {
   "attachments": {},
   "cell_type": "markdown",
   "metadata": {},
   "source": [
    "## 1 - SpaCy TextProcessingPipeline "
   ]
  },
  {
   "cell_type": "code",
   "execution_count": 1,
   "metadata": {},
   "outputs": [],
   "source": [
    "# download the respective SpaCy model\n",
    "# !python -m spacy download de_core_news_sm"
   ]
  },
  {
   "cell_type": "code",
   "execution_count": 2,
   "metadata": {},
   "outputs": [],
   "source": [
    "from pipeline.text_processing import TextProcessingPipeline\n",
    "\n",
    "MODEL = \"de_core_news_sm\"\n",
    "pipe = TextProcessingPipeline(model=MODEL)"
   ]
  },
  {
   "cell_type": "code",
   "execution_count": 3,
   "metadata": {},
   "outputs": [],
   "source": [
    "from pipeline.utils import load_queries\n",
    "\n",
    "QUERIES = load_queries()\n",
    "\n",
    "docs = []\n",
    "\n",
    "# for each query, invoke the SpaCy pipeline\n",
    "for query in QUERIES:\n",
    "    doc = pipe.invoke(query)\n",
    "    docs.append(doc)"
   ]
  },
  {
   "cell_type": "code",
   "execution_count": 14,
   "metadata": {},
   "outputs": [
    {
     "data": {
      "text/plain": [
       "[[@amthor, Ist, große, Koalition, gescheitert, #Groko],\n",
       " [#Lauterbach, Held, Virus]]"
      ]
     },
     "execution_count": 14,
     "metadata": {},
     "output_type": "execute_result"
    }
   ],
   "source": [
    "# select terms to expand\n",
    "EMBEDDING_PARAMS = {\n",
    "    \"pos_list\": [\"NOUN\",\"ADJ\",\"VERB\"],\n",
    "    \"entity\": True,\n",
    "    \"hashtag\": False,\n",
    "    \"user\": False,\n",
    "    \"N\": 3\n",
    "}\n",
    "\n",
    "query_tokens = []\n",
    "\n",
    "# for each processed query, filter the tokens depending on the specified parameters\n",
    "for doc in docs:\n",
    "    filtered_tokens = pipe.get_filtered_tokens(doc, EMBEDDING_PARAMS)\n",
    "    query_tokens.append(filtered_tokens)\n",
    "\n",
    "query_tokens"
   ]
  },
  {
   "attachments": {},
   "cell_type": "markdown",
   "metadata": {},
   "source": [
    "---\n",
    "## 2 - Word Embedding "
   ]
  },
  {
   "cell_type": "code",
   "execution_count": 5,
   "metadata": {},
   "outputs": [],
   "source": [
    "EMBEDDING = \"WORD2VEC\" # FASTTEXT\n",
    "\n",
    "W2V_MODEL = 'data/word2vec/german.model'\n",
    "FT_MODEL = 'data/fasttext/cc.de.300.bin'"
   ]
  },
  {
   "cell_type": "code",
   "execution_count": 6,
   "metadata": {},
   "outputs": [],
   "source": [
    "from pipeline.embedding import Word2Vec\n",
    "from pipeline.embedding import FastText\n",
    "\n",
    "if EMBEDDING == \"WORD2VEC\":\n",
    "    model = Word2Vec(W2V_MODEL)\n",
    "\n",
    "elif EMBEDDING == \"FASTTEXT\":\n",
    "    model = FastText(FT_MODEL)\n",
    "    \n",
    "else:\n",
    "    raise ValueError(\"Invalid Embedding\")\n",
    "\n",
    "\n",
    "similar_terms = []\n",
    "\n",
    "for tokens in query_tokens:\n",
    "    similar_terms.append(model.get_similar_terms(pipe.trim_symbols(tokens), PARAMS[\"N\"]))\n",
    "\n",
    "del model"
   ]
  },
  {
   "cell_type": "code",
   "execution_count": 7,
   "metadata": {},
   "outputs": [
    {
     "data": {
      "text/plain": [
       "[{'Ist': ['War', 'Waere', 'Sind'],\n",
       "  'Koalition': ['Grosse Koalition',\n",
       "   'Grossen Koalition',\n",
       "   'Regierungskoalition'],\n",
       "  'gescheitert': ['scheitert', 'Gescheitert', 'scheitern']},\n",
       " {'Lauterbach': ['Alsfeld', 'Buedingen', 'Hardt'],\n",
       "  'Held': ['Traeumer', 'Supermann', 'Protagonist'],\n",
       "  'Virus': ['Erreger', 'Viren', 'Infektion']}]"
      ]
     },
     "execution_count": 7,
     "metadata": {},
     "output_type": "execute_result"
    }
   ],
   "source": [
    "similar_terms"
   ]
  },
  {
   "attachments": {},
   "cell_type": "markdown",
   "metadata": {},
   "source": [
    "---\n",
    "## 3 - Elastic Search"
   ]
  },
  {
   "cell_type": "code",
   "execution_count": 8,
   "metadata": {},
   "outputs": [
    {
     "name": "stdout",
     "output_type": "stream",
     "text": [
      "Successfully connected to https://localhost:9200\n"
     ]
    }
   ],
   "source": [
    "from pipeline.elasticsearch import ElasticsearchClient\n",
    "import configparser\n",
    "\n",
    "INDEX = \"tweets\"\n",
    "\n",
    "config = configparser.ConfigParser()\n",
    "config.read('auth/es-credentials.ini')\n",
    "\n",
    "es_client = ElasticsearchClient(credentials=config[\"ELASTIC\"], index=INDEX)\n",
    "es_client.connect(config[\"ELASTIC\"][\"PWD\"])"
   ]
  },
  {
   "cell_type": "code",
   "execution_count": 9,
   "metadata": {},
   "outputs": [],
   "source": [
    "co_occurrences = []\n",
    "\n",
    "for terms in similar_terms:\n",
    "    co_occurrences.append(es_client.get_co_occurring_terms(terms))"
   ]
  },
  {
   "cell_type": "code",
   "execution_count": 10,
   "metadata": {},
   "outputs": [
    {
     "data": {
      "text/plain": [
       "[['amthor',\n",
       "  'Ist',\n",
       "  'große',\n",
       "  'Koalition',\n",
       "  'gescheitert',\n",
       "  'Groko',\n",
       "  'Gescheitert'],\n",
       " ['Lauterbach', 'Held', 'Virus', 'Infektion']]"
      ]
     },
     "execution_count": 10,
     "metadata": {},
     "output_type": "execute_result"
    }
   ],
   "source": [
    "from pipeline.utils import get_expansion_terms\n",
    "\n",
    "ALPHA = 0.1\n",
    "query_terms = []\n",
    "\n",
    "for i in range(len(QUERIES)):\n",
    "    expansion_terms = get_expansion_terms(pipe.trim_symbols(query_tokens[i]), similar_terms[i], co_occurrences[i], ALPHA)\n",
    "    query_terms.append(pipe.trim_symbols(query_tokens[i]) + expansion_terms)\n",
    "\n",
    "query_terms"
   ]
  },
  {
   "attachments": {},
   "cell_type": "markdown",
   "metadata": {},
   "source": [
    "TODO:\n",
    "- einmal coocurrences checken, dann hoch, dann gute erweiterung\n",
    "- wenn einzelnes Vorkommen oft, dann gute erweiterung   "
   ]
  },
  {
   "cell_type": "code",
   "execution_count": 13,
   "metadata": {},
   "outputs": [
    {
     "name": "stdout",
     "output_type": "stream",
     "text": [
      "{'size': 10, 'query': {'bool': {'should': [{'match': {'txt': {'query': 'amthor Ist große Koalition gescheitert Groko Gescheitert', 'operator': 'OR'}}}, {'terms': {'hashtags': ['groko'], 'boost': 0.5}}], 'must': {'terms_set': {'hashtags': {'terms': ['groko'], 'minimum_should_match_script': {'source': 'Math.min(params.num_terms, 1)'}}}}, 'must_not': {'term': {'txt': '_retweet_'}}, 'filter': [{'range': {'created_at': {'gte': '2021-01-01'}}}, {'range': {'created_at': {'lte': '2023-01-01'}}}]}}, 'aggs': {'sample': {'sampler': {'shard_size': 500}, 'aggs': {'keywords': {'significant_terms': {'field': 'hashtags'}}}}}, 'collapse': {}, 'sort': {}}\n"
     ]
    },
    {
     "data": {
      "text/plain": [
       "{'hits': 353,\n",
       " 'took': 101,\n",
       " 'tweets': [{'_index': 'tweets',\n",
       "   '_id': '1435174959677124609',\n",
       "   '_score': 19.941412,\n",
       "   '_source': {'retweet_count': 27,\n",
       "    'reply_count': 21,\n",
       "    'like_count': 291,\n",
       "    'created_at': '2021-09-07T11:35:49+02:00',\n",
       "    'txt': '#Laschet hält im Bundestag eine Rede darüber, wie großartig die Große Koalition ist. #Groko Mehr muss man eigentlich nicht hören. #btw21',\n",
       "    'hashtags': ['laschet', 'btw21', 'groko'],\n",
       "    'word_count': 21}},\n",
       "  {'_index': 'tweets',\n",
       "   '_id': '1441036904540033031',\n",
       "   '_score': 19.691784,\n",
       "   '_source': {'retweet_count': 0,\n",
       "    'reply_count': 1,\n",
       "    'like_count': 6,\n",
       "    'created_at': '2021-09-23T15:49:05+02:00',\n",
       "    'txt': '@calvinamfreitag Scholz hat eine Groko nie final ausgeschlossen. Darum geht es auch nicht. Ausgeschlossen habt ihr die #Groko schon beim letzten Mal und was ist daraus geworden...? Aus Berlin hört man, dass viele aus der Bundestagsfraktion im Zweifel auch wieder mit der Union koalieren würden.',\n",
       "    'hashtags': ['groko'],\n",
       "    'word_count': 45}},\n",
       "  {'_index': 'tweets',\n",
       "   '_id': '1446771141943697410',\n",
       "   '_score': 19.502754,\n",
       "   '_source': {'retweet_count': 0,\n",
       "    'reply_count': 0,\n",
       "    'like_count': 3,\n",
       "    'created_at': '2021-10-09T11:34:54+02:00',\n",
       "    'txt': 'Grüne u rote Jugend wissen was sie wollen. Eine 🚥-Koalition oder eine Bundesregierung, die gemeinsam gestaltet, gehören wohl nicht dazu. Ach, bleibt doch bei der #Groko, dann könnt ihr weiter nach Herzenslust gegen was auch immer protestieren.',\n",
       "    'hashtags': ['groko'],\n",
       "    'word_count': 37}},\n",
       "  {'_index': 'tweets',\n",
       "   '_id': '1430435788098052097',\n",
       "   '_score': 19.479973,\n",
       "   '_source': {'retweet_count': 70,\n",
       "    'reply_count': 18,\n",
       "    'like_count': 538,\n",
       "    'created_at': '2021-08-25T09:44:02+02:00',\n",
       "    'txt': 'Die epidemische #Notlage gehört sofort beendet! Die #Groko will sie heute im #Bundestag aber erneut verlängern. Für uns ist klar: Wenn keine Ausnahmesituation besteht, darf #BuReg auch keine Sonderbefugnisse haben! Wir müssen weg vom Panikmodus &amp; zurück zur Normalität! @fdpbt',\n",
       "    'hashtags': ['bundestag', 'groko', 'bureg', 'notlage'],\n",
       "    'word_count': 40}},\n",
       "  {'_index': 'tweets',\n",
       "   '_id': '1433043700142288901',\n",
       "   '_score': 19.468552,\n",
       "   '_source': {'retweet_count': 0,\n",
       "    'reply_count': 0,\n",
       "    'like_count': 0,\n",
       "    'created_at': '2021-09-01T14:26:57+02:00',\n",
       "    'txt': 'Sätze die formal korrekt sind aber halt auch Bekenntnisse.\\n\\n“Und wir [Wer? Politik? Boomer?] müssen auch noch mehr [weil ihr das schon so viel tut?] mit der jüngeren Generation [weil nur die sich fürs Klima interessiert 🤔] sprechen.” [zuhören! Ernst nehmen! Handel!]\\n#SPD #GroKo https://t.co/cA0tCDzFYA',\n",
       "    'hashtags': ['spd', 'groko'],\n",
       "    'word_count': 43}},\n",
       "  {'_index': 'tweets',\n",
       "   '_id': '1427592262612103171',\n",
       "   '_score': 19.410458,\n",
       "   '_source': {'retweet_count': 21,\n",
       "    'reply_count': 1,\n",
       "    'like_count': 84,\n",
       "    'created_at': '2021-08-17T13:24:53+02:00',\n",
       "    'txt': \"Die #GroKo hat nie ambitionierte Klimaziele definiert, aber selbst die erreicht sie nicht: 2021 wird's den höchsten Anstieg der CO2-Emissionen seit 1990 geben. Gesamt- &amp; Sektorziele (Industrie, Gebäude, Verkehr) werden gerissen. Klimaschutz muss man machen, nicht nur ankündigen! https://t.co/sKXsYmqryZ\",\n",
       "    'hashtags': ['groko'],\n",
       "    'word_count': 39}},\n",
       "  {'_index': 'tweets',\n",
       "   '_id': '1439647801063903233',\n",
       "   '_score': 19.292795,\n",
       "   '_source': {'retweet_count': 0,\n",
       "    'reply_count': 0,\n",
       "    'like_count': 8,\n",
       "    'created_at': '2021-09-19T19:49:17+02:00',\n",
       "    'txt': '@ABaerbock hat klar gemacht, dass die #Union nach 16 Jahren \"Weiter so\" in die Opposition gehört. Bei dieser #Klimawahl geht es um alles. Auch um die Frage, ob wir 4 weitere Jahre #Groko erleiden müssen o. ob uns mit starken Grünen,#Baerbock &amp; #Habeck ein echter Aufbruch gelingt. https://t.co/3CKRO5OV4D',\n",
       "    'hashtags': ['baerbock', 'klimawahl', 'habeck', 'groko', 'union'],\n",
       "    'word_count': 48}},\n",
       "  {'_index': 'tweets',\n",
       "   '_id': '1427310018752299014',\n",
       "   '_score': 19.243279,\n",
       "   '_source': {'retweet_count': 0,\n",
       "    'reply_count': 0,\n",
       "    'like_count': 1,\n",
       "    'created_at': '2021-08-16T18:43:21+02:00',\n",
       "    'txt': '#Offshore #Windkraft: Rin inne Kartoffeln, raus ausse Kartoffeln - die ganze Tragik der #Groko Technologiepolitik im Bereich der Erneuerbaren Energien | @tagesschau #ClimateAction https://t.co/ZGSSY4pf2b',\n",
       "    'hashtags': ['climateaction', 'groko', 'windkraft', 'offshore'],\n",
       "    'word_count': 24}},\n",
       "  {'_index': 'tweets',\n",
       "   '_id': '1433732882296676352',\n",
       "   '_score': 19.20155,\n",
       "   '_source': {'retweet_count': 0,\n",
       "    'reply_count': 0,\n",
       "    'like_count': 5,\n",
       "    'created_at': '2021-09-03T12:05:31+02:00',\n",
       "    'txt': '@ArminLaschet hat #Zukunft nicht verstanden. Bilanz von #Digitalchaos der #GroKo und @DoroBaer: Deutschland ist im Digitalvergleich abgerutscht. Wandel geht so: #TechnologieTaskForce am #BKAmt, #Innovationseinheiten in allen Ministerien, #Digitalbudget!\\nhttps://t.co/Jn87k4jTRn',\n",
       "    'hashtags': ['zukunft',\n",
       "     'groko',\n",
       "     'technologietaskforce',\n",
       "     'digitalchaos',\n",
       "     'bkamt',\n",
       "     'innovationseinheiten',\n",
       "     'digitalbudget'],\n",
       "    'word_count': 28}},\n",
       "  {'_index': 'tweets',\n",
       "   '_id': '1426097844340076545',\n",
       "   '_score': 19.151829,\n",
       "   '_source': {'retweet_count': 3,\n",
       "    'reply_count': 3,\n",
       "    'like_count': 44,\n",
       "    'created_at': '2021-08-13T10:26:36+02:00',\n",
       "    'txt': '#Groko war nie unser Ding! Ebenso wenig wie schaurige Szenarien wie Ampel- oder Deutschland-Koalition😖. Die #SPD gehört an die Seite progressiver Parteien. Wenn Du das genauso siehst, dann bist Du wohl #RadikalSozialdemokratisch und gehörst ins @Forum_DL21😉 https://t.co/ohOkUQgOPZ',\n",
       "    'hashtags': ['spd', 'groko', 'radikalsozialdemokratisch'],\n",
       "    'word_count': 37}}]}"
      ]
     },
     "execution_count": 13,
     "metadata": {},
     "output_type": "execute_result"
    }
   ],
   "source": [
    "parameters = []\n",
    "\n",
    "for i in range(len(QUERIES)):\n",
    "\n",
    "    params = {\n",
    "        \"retweet\": False,\n",
    "        \"hashtag_boost\": 0.5,\n",
    "        \"tweet_range\": (\"2021-01-01\", \"2023-01-01\")\n",
    "    }\n",
    "\n",
    "    params[\"terms\"] = query_terms[i]\n",
    "\n",
    "    params[\"hashtags\"] = [h.lower() for h in pipe.trim_symbols([t for t in query_tokens[i] if t._.is_hashtag ])]\n",
    "    params[\"users\"] = pipe.trim_symbols([t for t in query_tokens[i] if t._.is_user ])\n",
    "    params[\"entities\"] = pipe.trim_symbols([t for t in query_tokens[i] if t.ent_type_ ])\n",
    "\n",
    "    parameters.append(params)\n",
    "\n",
    "es_client.get_tweets(parameters[0])"
   ]
  },
  {
   "cell_type": "code",
   "execution_count": null,
   "metadata": {},
   "outputs": [],
   "source": []
  }
 ],
 "metadata": {
  "kernelspec": {
   "display_name": "twitter-query-expansion-tWkdo8vh",
   "language": "python",
   "name": "python3"
  },
  "language_info": {
   "codemirror_mode": {
    "name": "ipython",
    "version": 3
   },
   "file_extension": ".py",
   "mimetype": "text/x-python",
   "name": "python",
   "nbconvert_exporter": "python",
   "pygments_lexer": "ipython3",
   "version": "3.10.6"
  },
  "orig_nbformat": 4,
  "vscode": {
   "interpreter": {
    "hash": "d9ad3c02dd4b61e1f3ed1e38bd9b3b7a8e15a3f55cb03b1470e9f32af9138128"
   }
  }
 },
 "nbformat": 4,
 "nbformat_minor": 2
}
