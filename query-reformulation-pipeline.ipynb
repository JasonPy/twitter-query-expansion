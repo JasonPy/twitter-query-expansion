{
 "cells": [
  {
   "attachments": {},
   "cell_type": "markdown",
   "metadata": {},
   "source": [
    "# Twitter Query Reformulation\n",
    "..."
   ]
  },
  {
   "attachments": {},
   "cell_type": "markdown",
   "metadata": {},
   "source": [
    "## 1 - SpaCy Pipeline "
   ]
  },
  {
   "cell_type": "code",
   "execution_count": null,
   "metadata": {},
   "outputs": [],
   "source": [
    "# download the respective SpaCy model\n",
    "!python -m spacy download de_core_news_sm"
   ]
  },
  {
   "cell_type": "code",
   "execution_count": 1,
   "metadata": {},
   "outputs": [],
   "source": [
    "from pipeline.pipeline import Pipeline\n",
    "\n",
    "MODEL = \"de_core_news_sm\"\n",
    "pipe = Pipeline(model=MODEL)"
   ]
  },
  {
   "cell_type": "code",
   "execution_count": 2,
   "metadata": {},
   "outputs": [],
   "source": [
    "QUERIES = [\n",
    "    \"@amthor Ist die große Koalition gescheitert unter Merkel? #Groko#SPD #CDU\",\n",
    "]\n",
    "\n",
    "DOCS = []\n",
    "\n",
    "# for each query, invoke the SpaCy pipeline\n",
    "for query in QUERIES:\n",
    "    doc = pipe.invoke(query)\n",
    "    DOCS.append(doc)"
   ]
  },
  {
   "cell_type": "code",
   "execution_count": 3,
   "metadata": {},
   "outputs": [],
   "source": [
    "# select terms to expand\n",
    "PARAMS = {\n",
    "    \"pos_list\": [\"NOUN\",\"ADJ\",\"VERB\"],\n",
    "    \"entity\": False,\n",
    "    \"hashtag\": True,\n",
    "    \"user\": False,\n",
    "    \"N\": 3\n",
    "}\n",
    "\n",
    "TOKENS = []\n",
    "\n",
    "# for each processed query, filter the tokens depending on the specified parameters\n",
    "for doc in DOCS:\n",
    "    filtered_tokens = pipe.get_filtered_tokens(doc, PARAMS)\n",
    "    TOKENS.append(filtered_tokens)"
   ]
  },
  {
   "attachments": {},
   "cell_type": "markdown",
   "metadata": {},
   "source": [
    "## 2 - Word Embedding "
   ]
  },
  {
   "cell_type": "code",
   "execution_count": null,
   "metadata": {},
   "outputs": [],
   "source": [
    "from pipeline.embedding import Word2Vec\n",
    "\n",
    "WORD2VEC_MODEL = 'data/word2vec/german.model'\n",
    "\n",
    "w2v = Word2Vec(WORD2VEC_MODEL)\n",
    "w2v_similar_terms = []\n",
    "\n",
    "for token in TOKENS:\n",
    "    w2v_similar_terms.append(w2v.get_similar_terms([t.text for t in token], PARAMS[\"N\"]))\n",
    "    \n",
    "w2v_similar_terms"
   ]
  },
  {
   "cell_type": "code",
   "execution_count": null,
   "metadata": {},
   "outputs": [],
   "source": [
    "# free space\n",
    "del w2v"
   ]
  },
  {
   "cell_type": "code",
   "execution_count": null,
   "metadata": {},
   "outputs": [],
   "source": [
    "from pipeline.embedding import FastText\n",
    "\n",
    "FT_MODEL = 'data/fasttext/cc.de.300.bin'\n",
    "\n",
    "ft = FastText(FT_MODEL)\n",
    "ft_similar_terms = []\n",
    "\n",
    "for token in TOKENS:\n",
    "    ft_similar_terms = ft.get_similar_terms([t.text for t in token], PARAMS[\"N\"])\n",
    "ft_similar_terms"
   ]
  },
  {
   "cell_type": "code",
   "execution_count": 5,
   "metadata": {},
   "outputs": [],
   "source": [
    "# free space\n",
    "del ft"
   ]
  },
  {
   "attachments": {},
   "cell_type": "markdown",
   "metadata": {},
   "source": [
    "## 3 - Elastic Search"
   ]
  },
  {
   "cell_type": "code",
   "execution_count": 6,
   "metadata": {},
   "outputs": [],
   "source": [
    "from pipeline.elasticsearch import ElasticsearchClient\n",
    "import configparser\n",
    "\n",
    "config = configparser.ConfigParser()\n",
    "config.read('auth/es-credentials.ini')\n",
    "\n",
    "es_client = ElasticsearchClient(credentials=config[\"ELASTIC\"], index=\"tweets\")"
   ]
  },
  {
   "cell_type": "code",
   "execution_count": 7,
   "metadata": {},
   "outputs": [
    {
     "name": "stdout",
     "output_type": "stream",
     "text": [
      "Successfully connected to https://localhost:9200\n"
     ]
    }
   ],
   "source": [
    "es_client.connect(config[\"ELASTIC\"][\"PWD\"])"
   ]
  },
  {
   "cell_type": "code",
   "execution_count": null,
   "metadata": {},
   "outputs": [],
   "source": [
    "es_client.get_cooccurring_terms('config/es-adjacency-matrix.conf', w2v_similar_terms)"
   ]
  },
  {
   "cell_type": "code",
   "execution_count": null,
   "metadata": {},
   "outputs": [],
   "source": []
  }
 ],
 "metadata": {
  "kernelspec": {
   "display_name": "twitter-query-expansion-tWkdo8vh",
   "language": "python",
   "name": "python3"
  },
  "language_info": {
   "codemirror_mode": {
    "name": "ipython",
    "version": 3
   },
   "file_extension": ".py",
   "mimetype": "text/x-python",
   "name": "python",
   "nbconvert_exporter": "python",
   "pygments_lexer": "ipython3",
   "version": "3.10.6"
  },
  "orig_nbformat": 4,
  "vscode": {
   "interpreter": {
    "hash": "d9ad3c02dd4b61e1f3ed1e38bd9b3b7a8e15a3f55cb03b1470e9f32af9138128"
   }
  }
 },
 "nbformat": 4,
 "nbformat_minor": 2
}
