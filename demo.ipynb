{
 "cells": [
  {
   "attachments": {},
   "cell_type": "markdown",
   "metadata": {},
   "source": [
    "# Twitter Query Expansion\n",
    "© Jason Pyanowski\n",
    "\n",
    "In this demo file, the application of the project **Twitter Query Expansion** is explained. Starting with the initial Tweets data retrieval and download of the Word Embedding models. Then the pipeline is invoked and the configurations are elaborated.  "
   ]
  },
  {
   "attachments": {},
   "cell_type": "markdown",
   "metadata": {},
   "source": [
    "## (1) Twitter Data Preparation\n",
    "Parse Tweets from the PostgreSQL database into an Elastic Search Index. This task is handled by the script `/scripts/tweet_feeder.py` as stated below. It is required to have a running Elastic Search Cluster and a PostgreSQL database at hand."
   ]
  },
  {
   "cell_type": "code",
   "execution_count": null,
   "metadata": {},
   "outputs": [],
   "source": [
    "!python3 scripts/tweet_feeder.py -h"
   ]
  },
  {
   "attachments": {},
   "cell_type": "markdown",
   "metadata": {},
   "source": [
    "## (2) Download Word Embedding Models\n",
    "This Pipeline allows tu use different word embedding models. The download link of the desired model can be used to load the model below. The model types of `fasttext` and `word2vec` are currently supported. To speed up the performance of the query expansion pipeline, the models are consequently compressed.\n",
    "\n",
    "|Parameter|Possible Values|Datatype|\n",
    "|---|---|---|\n",
    "|type|`'fasttext'`, `'word2vec'`|`str`|\n",
    "|url|`'url to model'`|`str`|\n",
    "\n",
    "**Note:** Basic models are already provided within `models/...` folder."
   ]
  },
  {
   "attachments": {},
   "cell_type": "markdown",
   "metadata": {},
   "source": [
    "**Download Word2Vec model**"
   ]
  },
  {
   "cell_type": "code",
   "execution_count": null,
   "metadata": {},
   "outputs": [],
   "source": [
    "from scripts.model_loader import load_model\n",
    "load_model(type=\"word2vec\", url=\"https://cloud.devmount.de/d2bc5672c523b086/german.model\")"
   ]
  },
  {
   "attachments": {},
   "cell_type": "markdown",
   "metadata": {},
   "source": [
    "**Download FastText model**"
   ]
  },
  {
   "cell_type": "code",
   "execution_count": null,
   "metadata": {},
   "outputs": [],
   "source": [
    "load_model(type=\"fasttext\", url=\"https://dl.fbaipublicfiles.com/fasttext/vectors-crawl/cc.de.300.vec.gz\")"
   ]
  },
  {
   "attachments": {},
   "cell_type": "markdown",
   "metadata": {},
   "source": [
    "## (3) Pipeline Configuration\n",
    "### Define Queries\n",
    "Specify some queries on which to evaluate the pipeline. Queries may include Twitter-specific syntax like hashtags `#EU` or user mentions `@bundestag`."
   ]
  },
  {
   "cell_type": "code",
   "execution_count": 1,
   "metadata": {},
   "outputs": [],
   "source": [
    "QUERIES = [\n",
    "    \"große Koalition gescheitert unter Merkel? #Groko #SPD #CDU\",\n",
    "    \"Lauterbach Deutschland Corona-Maßnahmen #Impfung\",\n",
    "    \"@bundestag Bundestagswahl 2021 Ergebnisse\",\n",
    "    \"EU Brexit Boris Johnson\",\n",
    "    \"Gesetzliche Rentenversicherung Rente Mit 67\",\n",
    "    \"Klimapolitik Deutschland #Grüne\",\n",
    "    \"Asylpolitik Merkel\",\n",
    "    \"Soli abschaffen Westen\",\n",
    "    \"Bundeswehr Afghanistan Krieg stoppen\",\n",
    "    \"Energiewende mit SPD und CDU\"\n",
    "]"
   ]
  },
  {
   "attachments": {},
   "cell_type": "markdown",
   "metadata": {},
   "source": [
    "### Set Word Embedding Parameters\n",
    "In order to obtain the desired results, modify the parameters for Word Embeddings. These configurations determine which of the initial query terms are actually used to find related terms.\n",
    "\n",
    "| Parameter | Possible Values | Datatype |\n",
    "|---|---|---|\n",
    "|type|`'word2vec', 'fasttext'`|`str`|\n",
    "|model| `'path to model'`|`str`|\n",
    "|pos_list|`['ADJ', 'ADP', 'ADV', 'AUX', 'CCONJ', 'CONJ', 'DET', 'EOL', 'IDS', 'INTJ', 'NAMES', 'NOUN', 'NO_TAG', 'NUM', 'PART', 'PRON', 'PROPN', 'PUNCT', 'SCONJ', 'SPACE', 'SYM', 'VERB', 'X']`| `list[str]`|\n",
    "|entity_list|`['LOC', 'MISC', 'ORG', 'PER']`|`list[str]`|\n",
    "|hashtag|`True, False`|`bool`|\n",
    "|user|`True, False`|`bool`|\n",
    "|num_nearest_terms|`1...N`|`int`|\n"
   ]
  },
  {
   "cell_type": "code",
   "execution_count": 2,
   "metadata": {},
   "outputs": [],
   "source": [
    "EMBEDDING_PARAMS = {\n",
    "    \"type\": \"fasttext\",\n",
    "    \"model\": \"models/fasttext/cc.de.300.model\",\n",
    "    \"pos_list\": [\"NOUN\",\"ADJ\",\"VERB\",\"PROPN\"],\n",
    "    \"entity_list\": ['LOC', 'ORG', 'PER'],\n",
    "    \"hashtag\": True,\n",
    "    \"user\": True,\n",
    "    \"num_nearest_terms\": 3\n",
    "}"
   ]
  },
  {
   "attachments": {},
   "cell_type": "markdown",
   "metadata": {},
   "source": [
    "### Set Elastic Search Parameters\n",
    "After Query Expansion, the Tweets are retrieved from an Elastic Search Index. Specify the parameters below and make sure that an Index is running on your machine. \n",
    "\n",
    "| Parameter | Possible Values | Datatype |\n",
    "|---|---|---|\n",
    "|index|`'tweets'`|`str`|\n",
    "|num_of_tweets|`1...N`| `int`|\n",
    "|retweet|`True, False`|`bool`|\n",
    "|hashtag_boost|`0...N`|`float`|\n",
    "|tweet_range|`(date, date)`|`tuple`|"
   ]
  },
  {
   "cell_type": "code",
   "execution_count": 3,
   "metadata": {},
   "outputs": [],
   "source": [
    "ELASTIC_PARAMS = {\n",
    "    \"index\": \"tweets_all\",\n",
    "    \"num_of_tweets\": 20,\n",
    "    \"retweet\": False,\n",
    "    \"hashtag_boost\": 1.0,\n",
    "    \"tweet_range\": (\"2020-01-01\", \"2023-01-01\")\n",
    "}"
   ]
  },
  {
   "attachments": {},
   "cell_type": "markdown",
   "metadata": {},
   "source": [
    "## (4) Execute Pipeline\n",
    "Run the Pipeline - the results are stored in the `/output` directory."
   ]
  },
  {
   "cell_type": "code",
   "execution_count": 5,
   "metadata": {},
   "outputs": [
    {
     "name": "stdout",
     "output_type": "stream",
     "text": [
      "Processing text using SpaCy...\n",
      "Evaluating fasttext model...\n",
      "Connecting to Elastic Search...\n",
      "Retrieving Tweets...\n",
      "Writing results to output/fasttext/06-02-23_11-18-49\n",
      "Finished!\n"
     ]
    }
   ],
   "source": [
    "# run pipeline\n",
    "from scripts import pipeline\n",
    "\n",
    "res = pipeline.run(\n",
    "    queries=QUERIES, \n",
    "    embedding_params=EMBEDDING_PARAMS,\n",
    "    elastic_params=ELASTIC_PARAMS)"
   ]
  },
  {
   "attachments": {},
   "cell_type": "markdown",
   "metadata": {},
   "source": [
    "## (5) Inspect Results\n",
    "Have a look through the resulting Tweets. Show the query and the highest scored Tweet."
   ]
  },
  {
   "cell_type": "code",
   "execution_count": 7,
   "metadata": {},
   "outputs": [
    {
     "name": "stdout",
     "output_type": "stream",
     "text": [
      "Query: große Koalition gescheitert unter Merkel? #Groko #SPD #CDU\n",
      "Tweet:  Die erste #GroKo in Deutschland vereinte 1966 noch 86,9% der Wähler:innen hinter sich. Das lässt sich heute nicht mal mit einer Mosambik-Koalition erreichen. Aber wenn man #CDU und #FDP einerseits und #SPD und #Grüne anderseits beobachtet, könnte man das glatt als Lösung sehen.\n",
      "\n",
      "\n",
      "Query: Lauterbach Deutschland Corona-Maßnahmen #Impfung\n",
      "Tweet:  Netzfund!\n",
      "\"Sag doch mal die Wahrheit, Karl!\"\n",
      "#Lauterbach #Lanz #Corona #Pandemie #Bundestagswahl \n",
      "#Impfung #Impfpflicht #Impfdurchbruch #Impfpass https://t.co/EnYaCCuq2D\n",
      "\n",
      "\n",
      "Query: @bundestag Bundestagswahl 2021 Ergebnisse\n",
      "Tweet:  Michael Sacher saß drei Wochen im Bundestag, nahm an Fraktionssitzungen teil und vernetzte sich. Dann kam das amtliche Endergebnis der Bundestagswahl - und er verlor das Mandat. Der @Tagesspiegel hat mit ihm gesprochen:\n",
      "https://t.co/i99VXR9R0u\n",
      "\n",
      "\n",
      "Query: EU Brexit Boris Johnson\n",
      "Tweet:  Die britische Regierung hingegen versucht mit plumpen Schuldzuweisungen und ideologisch motivierten Maximalforderungen von ihrem schlechten #Brexit-Management abzulenken. Die EU darf sich vom Gebaren der Regierung Johnson in dieser Sache nicht beirren lassen. (2/3)\n",
      "\n",
      "\n",
      "Query: Gesetzliche Rentenversicherung Rente Mit 67\n",
      "Tweet:  @wodgachef @DietmarBartsch Sind wir. Ich zahle 880 Euro in die gesetzliche Krankenversicherung und auch in die gesetzliche Rente ein. Beides allerdings freiwillig. Es sollte verpflichtend werden.\n",
      "\n",
      "\n",
      "Query: Klimapolitik Deutschland #Grüne\n",
      "Tweet:  Wow, was für eine beeindruckende Veranstaltung heute mit @ABaerbock in #Bamberg! Schön, so viel #Grüne Energie zu spüren! Es ist so sehr Zeit für die erste feministische Bundesregierung mit einer menschenwürdige Außenpolitik, echtem Klimaschutz und fairer Sozialpolitik! #ActNow🌻 https://t.co/yu9fKLgnmu\n",
      "\n",
      "\n",
      "Query: Asylpolitik Merkel\n",
      "Tweet:  Angela #Merkel zu Gast bei der @EPPGroup .Klare Worte:  Politik darf sich nicht darauf beschränken, schwierige Entscheidungen nur an Gerichte weiter zu reichen\n",
      "#europa\n",
      "#cdu\n",
      "#Bundeskanzlerin \n",
      "#epp https://t.co/WFldHHx1mP\n",
      "\n",
      "\n",
      "Query: Soli abschaffen Westen\n",
      "Tweet:  Diese gefährlichen Aktivitäten und Handlungen der Hassprediger müssen nicht mehr nur beobachtet sondern unterbunden werden. Salafisten möchten eigene kranke Ideologie und den Salafismus verbreiten, unsere Demokratie und westlichen Werte abschaffen und durch die Scharia ersetzen\n",
      "\n",
      "\n",
      "Query: Bundeswehr Afghanistan Krieg stoppen\n",
      "Tweet:  Nix gelernt aus dem #Afghanistan -Desaster: #CDU #CSU, #SPD, #AfD, #FDP und #Gruene wollen weiter Waffen an Taliban-Helfer #Pakistan liefern – den LINKE-Antrag auf #Rüstungsstopp in die Krisenregion hat diese Kriegskoalition XXL gerade gemeinsam abgelehnt. 👎 https://t.co/997kN1DqmK\n",
      "\n",
      "\n",
      "Query: Energiewende mit SPD und CDU\n",
      "Tweet:  @DasErste @ArminLaschet @CDU @OlafScholz @spdde @ABaerbock @Die_Gruenen @Alice_Weidel @AfD @c_lindner @fdp @Janine_Wissler @dieLinke @Markus_Soeder @CSU @TinaHassel @TheoKoll Schlussrunde:\n",
      "\n",
      "https://t.co/Oy6JnMMm8m\n",
      "\n",
      "\n"
     ]
    }
   ],
   "source": [
    "for tweets, query in zip(res, QUERIES):\n",
    "    print(\"Query:\",query)\n",
    "    \n",
    "    for tweet in tweets[\"tweets\"][:1]:\n",
    "        print(\"Tweet: \", tweet[\"_source\"][\"txt\"])\n",
    "    print(\"\\n\")"
   ]
  },
  {
   "cell_type": "code",
   "execution_count": null,
   "metadata": {},
   "outputs": [],
   "source": []
  }
 ],
 "metadata": {
  "kernelspec": {
   "display_name": "twitter-query-expansion-tWkdo8vh",
   "language": "python",
   "name": "python3"
  },
  "language_info": {
   "codemirror_mode": {
    "name": "ipython",
    "version": 3
   },
   "file_extension": ".py",
   "mimetype": "text/x-python",
   "name": "python",
   "nbconvert_exporter": "python",
   "pygments_lexer": "ipython3",
   "version": "3.10.6"
  },
  "orig_nbformat": 4,
  "vscode": {
   "interpreter": {
    "hash": "d9ad3c02dd4b61e1f3ed1e38bd9b3b7a8e15a3f55cb03b1470e9f32af9138128"
   }
  }
 },
 "nbformat": 4,
 "nbformat_minor": 2
}
