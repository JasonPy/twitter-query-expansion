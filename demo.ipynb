{
 "cells": [
  {
   "attachments": {},
   "cell_type": "markdown",
   "metadata": {},
   "source": [
    "# Twitter Query Expansion\n",
    "In this demo file, the project **Twitter Query Expansion** is ..."
   ]
  },
  {
   "attachments": {},
   "cell_type": "markdown",
   "metadata": {},
   "source": [
    "## Download Models\n",
    "This Pipeline allows tu use different word embedding models. The download link of the desired model can be used to load the model below. The model types of `fasttext` and `word2vec` are currently supported. To speed up the performance of the query expansion pipeline, the models are consequently compressed."
   ]
  },
  {
   "attachments": {},
   "cell_type": "markdown",
   "metadata": {},
   "source": [
    "Download Word2Vec model"
   ]
  },
  {
   "cell_type": "code",
   "execution_count": 7,
   "metadata": {},
   "outputs": [],
   "source": [
    "from scripts.model_loader import load_model\n",
    "load_model(type=\"word2vec\", url=\"https://cloud.devmount.de/d2bc5672c523b086/german.model\")"
   ]
  },
  {
   "attachments": {},
   "cell_type": "markdown",
   "metadata": {},
   "source": [
    "Download FastText model"
   ]
  },
  {
   "cell_type": "code",
   "execution_count": null,
   "metadata": {},
   "outputs": [],
   "source": [
    "load_model(type=\"fasttext\", url=\"https://dl.fbaipublicfiles.com/fasttext/vectors-crawl/cc.de.300.vec.gz\")"
   ]
  },
  {
   "attachments": {},
   "cell_type": "markdown",
   "metadata": {},
   "source": [
    "## Define Queries\n",
    "Specify queries on which to evaluate the pipeline. Queries may include Twitter-specific syntax like hashtags `#EU` or user mentions `@bundestag`."
   ]
  },
  {
   "cell_type": "code",
   "execution_count": 1,
   "metadata": {},
   "outputs": [],
   "source": [
    "QUERIES = [\n",
    "    \"große Koalition gescheitert unter Merkel? #Groko #SPD #CDU\",\n",
    "    \"Lauterbach Deutschland Corona-Maßnahmen #Impfung\",\n",
    "    \"@bundestag Bundestagswahl 2021 Ergebnisse\",\n",
    "    \"Europäische Union Brexit Boris Johnson\",\n",
    "    \"Gesetzliche Rentenversicherung Rente Mit 67\",\n",
    "    \"Klimapolitik Deutschland #Grüne\",\n",
    "    \"Asylpolitik Merkel\",\n",
    "    \"Soli abschaffen im Westen\",\n",
    "    \"Bundeswehr Afghanistan Krieg stoppen\",\n",
    "    \"Deutschland Energiewende unter SPD CDU\"\n",
    "]"
   ]
  },
  {
   "attachments": {},
   "cell_type": "markdown",
   "metadata": {},
   "source": [
    "## Set Word Embedding Parameters\n",
    "In order to obtain the desired results, modify the parameters for Word Embeddings. These configurations determine which of the initial query terms are actually used to find related terms.\n",
    "\n",
    "| Parameter | Possible Values | Datatype |\n",
    "|---|---|---|\n",
    "|type|`'word2vec', 'fasttext'`|`str`|\n",
    "|model| `'path to model'`|str|\n",
    "|pos_list|`['ADJ', 'ADP', 'ADV', 'AUX', 'CCONJ', 'CONJ', 'DET', 'EOL', 'IDS', 'INTJ', 'NAMES', 'NOUN', 'NO_TAG', 'NUM', 'PART', 'PRON', 'PROPN', 'PUNCT', 'SCONJ', 'SPACE', 'SYM', 'VERB', 'X']`| `list[str]`|\n",
    "|entity_list|`['LOC', 'MISC', 'ORG', 'PER']`|`list[str]`|\n",
    "|hashtag|`True, False`|`bool`|\n",
    "|user|`True, False`|`bool`|\n",
    "|num_nearest_terms|`1...N`|`int`|\n"
   ]
  },
  {
   "cell_type": "code",
   "execution_count": 2,
   "metadata": {},
   "outputs": [],
   "source": [
    "EMBEDDING_PARAMS = {\n",
    "    \"type\": \"fasttext\",\n",
    "    \"model\": \"models/fasttext/cc.de.300.model\",\n",
    "    \"pos_list\": [\"NOUN\",\"ADJ\",\"VERB\",\"PROPN\"],\n",
    "    \"entity_list\": ['LOC', 'ORG'],\n",
    "    \"hashtag\": False,\n",
    "    \"user\": False,\n",
    "    \"num_nearest_terms\": 5\n",
    "}"
   ]
  },
  {
   "attachments": {},
   "cell_type": "markdown",
   "metadata": {},
   "source": [
    "## Set Elastic Search Parameters\n",
    "| Parameter | Possible Values | Datatype |\n",
    "|---|---|---|\n",
    "|index|`'tweets'`|`str`|\n",
    "|num_of_tweets|`1...N`| `int`|\n",
    "|retweet|`True, False`|`bool`|\n",
    "|hashtag_boost|`0...N`|`float`|\n",
    "|tweet_range|`(date, date)`|`tuple`|"
   ]
  },
  {
   "cell_type": "code",
   "execution_count": 3,
   "metadata": {},
   "outputs": [],
   "source": [
    "ELASTIC_PARAMS = {\n",
    "    \"index\": \"tweets\",\n",
    "    \"num_of_tweets\": 10,\n",
    "    \"retweet\": False,\n",
    "    \"hashtag_boost\": 0.5,\n",
    "    \"tweet_range\": (\"2021-01-01\", \"2023-01-01\")\n",
    "}"
   ]
  },
  {
   "attachments": {},
   "cell_type": "markdown",
   "metadata": {},
   "source": [
    "## Execute Pipeline\n",
    "Run the Pipeline - the results are stored in the `/out` directory."
   ]
  },
  {
   "cell_type": "code",
   "execution_count": null,
   "metadata": {},
   "outputs": [],
   "source": [
    "# run pipeline\n",
    "from scripts import pipeline\n",
    "\n",
    "res = pipeline.run(\n",
    "    queries=QUERIES, \n",
    "    embedding_params=EMBEDDING_PARAMS,\n",
    "    elastic_params=ELASTIC_PARAMS)"
   ]
  },
  {
   "attachments": {},
   "cell_type": "markdown",
   "metadata": {},
   "source": [
    "## Inspect Results\n",
    "Load results and have a look through the retrieved Tweets. "
   ]
  },
  {
   "cell_type": "code",
   "execution_count": null,
   "metadata": {},
   "outputs": [],
   "source": [
    "for tweets, i in zip(res,range(len(QUERIES))):\n",
    "    print(\"Query:\", QUERIES[i], \"\\n\")\n",
    "    for tweet in tweets[\"tweets\"]:\n",
    "        print(\"->\", tweet[\"_source\"][\"txt\"])"
   ]
  },
  {
   "cell_type": "code",
   "execution_count": null,
   "metadata": {},
   "outputs": [],
   "source": []
  }
 ],
 "metadata": {
  "kernelspec": {
   "display_name": "twitter-query-expansion-tWkdo8vh",
   "language": "python",
   "name": "python3"
  },
  "language_info": {
   "codemirror_mode": {
    "name": "ipython",
    "version": 3
   },
   "file_extension": ".py",
   "mimetype": "text/x-python",
   "name": "python",
   "nbconvert_exporter": "python",
   "pygments_lexer": "ipython3",
   "version": "3.10.6"
  },
  "orig_nbformat": 4,
  "vscode": {
   "interpreter": {
    "hash": "d9ad3c02dd4b61e1f3ed1e38bd9b3b7a8e15a3f55cb03b1470e9f32af9138128"
   }
  }
 },
 "nbformat": 4,
 "nbformat_minor": 2
}
