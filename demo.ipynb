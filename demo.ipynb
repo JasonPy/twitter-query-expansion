{
 "cells": [
  {
   "attachments": {},
   "cell_type": "markdown",
   "metadata": {},
   "source": [
    "# Twitter Query Expansion\n",
    "In this demo file, the project **Twitter Query Expansion** is ..."
   ]
  },
  {
   "attachments": {},
   "cell_type": "markdown",
   "metadata": {},
   "source": [
    "## Download Models\n",
    "First, different models for text processing and word embeddings are downloaded. \n",
    "\n",
    "For text processing SpaCy is utilized. The word embeddings of Word2Vec and Fasttext are "
   ]
  },
  {
   "cell_type": "code",
   "execution_count": 1,
   "metadata": {},
   "outputs": [],
   "source": [
    "SPACY_MODEL = \"de_core_news_lg\""
   ]
  },
  {
   "cell_type": "code",
   "execution_count": 7,
   "metadata": {},
   "outputs": [],
   "source": [
    "import subprocess\n",
    "\n",
    "# download the respective SpaCy model\n",
    "subprocess.run(f\"python -m spacy download {SPACY_MODEL}\", shell=True)"
   ]
  },
  {
   "attachments": {},
   "cell_type": "markdown",
   "metadata": {},
   "source": [
    "Download FastText model"
   ]
  },
  {
   "cell_type": "code",
   "execution_count": null,
   "metadata": {},
   "outputs": [],
   "source": [
    "# Download german model from fasttext website\n",
    "subprocess.run(\"wget -P ./data/fasttext https://dl.fbaipublicfiles.com/fasttext/vectors-crawl/cc.de.300.bin.gz\", shell=True)\n",
    "\n",
    "# unzip the fasttext model\n",
    "subprocess.run(f\"gunzip -d ./data/fasttext/cc.de.300.bin.gz\", shell=True)"
   ]
  },
  {
   "attachments": {},
   "cell_type": "markdown",
   "metadata": {},
   "source": [
    "Download Word2Vec model"
   ]
  },
  {
   "cell_type": "code",
   "execution_count": null,
   "metadata": {},
   "outputs": [],
   "source": [
    "# Download german model from devmount website\n",
    "subprocess.run(\"wget -P ./data/fasttext https://cloud.devmount.de/d2bc5672c523b086/german.model\", shell=True)"
   ]
  },
  {
   "attachments": {},
   "cell_type": "markdown",
   "metadata": {},
   "source": [
    "## Define Queries\n",
    "The queries on which to evaluate the query expansion are stated."
   ]
  },
  {
   "cell_type": "code",
   "execution_count": 2,
   "metadata": {},
   "outputs": [],
   "source": [
    "QUERIES = [\n",
    "    \"@amthor Ist die große Koalition gescheitert unter Merkel? #Groko#SPD #CDU\",\n",
    "    \"#Lauterbach Virus! gelogen #Covid19 #Corona\"\n",
    "]"
   ]
  },
  {
   "attachments": {},
   "cell_type": "markdown",
   "metadata": {},
   "source": [
    "## Set Pipeline Parameters\n",
    "Modify the following parameters to use different options for the word embeddings and elastic search query."
   ]
  },
  {
   "cell_type": "code",
   "execution_count": 3,
   "metadata": {},
   "outputs": [],
   "source": [
    "EMBEDDING_PARAMS = {\n",
    "    \"type\": \"word2vec\",\n",
    "    \"pos_list\": [\"NOUN\",\"ADJ\",\"VERB\"],\n",
    "    \"entity\": True,\n",
    "    \"hashtag\": False,\n",
    "    \"user\": False,\n",
    "    \"num_nearest_terms\": 3\n",
    "}\n",
    "\n",
    "ELASTIC_PARAMS = {\n",
    "    \"index\": \"tweets\",\n",
    "    \"retweet\": False,\n",
    "    \"hashtag_boost\": 0.5,\n",
    "    \"tweet_range\": (\"2021-01-01\", \"2023-01-01\")\n",
    "}"
   ]
  },
  {
   "attachments": {},
   "cell_type": "markdown",
   "metadata": {},
   "source": [
    "## Execute Pipeline\n",
    "Run the Pipeline - the results are stored in the `/out` directory."
   ]
  },
  {
   "cell_type": "code",
   "execution_count": 4,
   "metadata": {},
   "outputs": [
    {
     "name": "stdout",
     "output_type": "stream",
     "text": [
      "Successfully connected to https://localhost:9200\n"
     ]
    }
   ],
   "source": [
    "# run pipeline\n",
    "from scripts import pipeline\n",
    "\n",
    "pipeline.run(\n",
    "    queries=QUERIES, \n",
    "    spacy_model=SPACY_MODEL,\n",
    "    embedding_params=EMBEDDING_PARAMS,\n",
    "    elastic_params=ELASTIC_PARAMS)"
   ]
  },
  {
   "attachments": {},
   "cell_type": "markdown",
   "metadata": {},
   "source": [
    "## Inspect Results\n",
    "Load results and have a look through the retrieved Tweets. "
   ]
  },
  {
   "cell_type": "code",
   "execution_count": 14,
   "metadata": {},
   "outputs": [
    {
     "data": {
      "text/plain": [
       "[[{'_index': 'tweets',\n",
       "   '_id': '1435949446152531970',\n",
       "   '_score': 6.772748,\n",
       "   '_source': {'retweet_count': 7,\n",
       "    'reply_count': 0,\n",
       "    'like_count': 22,\n",
       "    'created_at': '2021-09-09T14:53:21+02:00',\n",
       "    'txt': 'Die Große Koalition hat einfach zugeschaut, wie die Netzbetreiber sich ein Zwei-Klassen-Internet basteln. Bis die vom EuGH gerügten Angebote von Markt verschwinden, wird es noch eine Weile dauern. #Netzneutralität\\n@netzpolitik_org @TabeaRoessner \\nhttps://t.co/6g6aVWtHv9',\n",
       "    'hashtags': ['netzneutralität'],\n",
       "    'word_count': 31}},\n",
       "  {'_index': 'tweets',\n",
       "   '_id': '1433155153272705026',\n",
       "   '_score': 6.7635736,\n",
       "   '_source': {'retweet_count': 0,\n",
       "    'reply_count': 8,\n",
       "    'like_count': 16,\n",
       "    'created_at': '2021-09-01T21:49:49+02:00',\n",
       "    'txt': 'Stand jetzt läuft es darauf hinaus, dass @c_lindner entscheidet, wer Bundeskanzler werden wird oder es gibt wieder eine \"Große Koalition\". Macht das nur mir Bauchweh und schlaflose Nächte? #btw21',\n",
       "    'hashtags': ['btw21'],\n",
       "    'word_count': 29}},\n",
       "  {'_index': 'tweets',\n",
       "   '_id': '1453750241505722368',\n",
       "   '_score': 6.7577043,\n",
       "   '_source': {'retweet_count': 0,\n",
       "    'reply_count': 0,\n",
       "    'like_count': 0,\n",
       "    'created_at': '2021-10-28T17:47:21+02:00',\n",
       "    'txt': '👉 Über #Sozialunternehmertum hab‘ ich mich gestern im @Landtag_Bayern mit #PlenumTV ausgetauscht!🎥 Sehe darin eine große Chance im Hinblick auf die Masterthemen unserer Zeit und bin froh, dass unsere #Bayernkoalition im #Koalitionsvertrag vereinbart hat darauf zu setzen.👍 https://t.co/FQG54RJyEB',\n",
       "    'hashtags': ['koalitionsvertrag',\n",
       "     'bayernkoalition',\n",
       "     'sozialunternehmertum',\n",
       "     'plenumtv'],\n",
       "    'word_count': 38}},\n",
       "  {'_index': 'tweets',\n",
       "   '_id': '1451097097969848322',\n",
       "   '_score': 6.7573214,\n",
       "   '_source': {'retweet_count': 18,\n",
       "    'reply_count': 66,\n",
       "    'like_count': 490,\n",
       "    'created_at': '2021-10-21T10:04:42+02:00',\n",
       "    'txt': 'Heute beginnen die Verhandlungen für eine #Ampelkoalition. Die \\n@fdp geht inhaltlich sowie organisatorisch gut vorbereitet und mit dem Willen zu großer Verbindlichkeit in diese Gespräche. Kurz: mit der Ernsthaftigkeit und Seriosität, die der Sache angemessen ist.',\n",
       "    'hashtags': ['ampelkoalition'],\n",
       "    'word_count': 36}},\n",
       "  {'_index': 'tweets',\n",
       "   '_id': '1438579999485931527',\n",
       "   '_score': 6.7387977,\n",
       "   '_source': {'retweet_count': 1,\n",
       "    'reply_count': 1,\n",
       "    'like_count': 29,\n",
       "    'created_at': '2021-09-16T21:06:14+02:00',\n",
       "    'txt': '@leonmwalter Nicht ganz richtig: Der Martin hat bis zuletzt eine Große Koalition ausgeschlossen, der Olaf tut das nicht, im Gegenteil.',\n",
       "    'hashtags': [None],\n",
       "    'word_count': 20}},\n",
       "  {'_index': 'tweets',\n",
       "   '_id': '1446017028150681601',\n",
       "   '_score': 6.7374573,\n",
       "   '_source': {'retweet_count': 8,\n",
       "    'reply_count': 3,\n",
       "    'like_count': 30,\n",
       "    'created_at': '2021-10-07T09:38:19+02:00',\n",
       "    'txt': 'Eine meiner größten Hoffnungen: Ein #Einwanderungsgesetz, das seinen Namen verdient hat! Ein Paradigmenwechsel in der Sicht auf Einwanderung und auf die Menschen, die zu uns kommen. Das bekämpft #Rassismus effektiver, als viele Lippenbekenntnisse. #Ampelkoalition',\n",
       "    'hashtags': ['rassismus', 'ampelkoalition', 'einwanderungsgesetz'],\n",
       "    'word_count': 34}},\n",
       "  {'_index': 'tweets',\n",
       "   '_id': '1430135338585006088',\n",
       "   '_score': 6.734871,\n",
       "   '_source': {'retweet_count': 0,\n",
       "    'reply_count': 1,\n",
       "    'like_count': 1,\n",
       "    'created_at': '2021-08-24T13:50:10+02:00',\n",
       "    'txt': '@wathzmann Ihre Verwunderung, was dazu gehört, wird dann vermutlich noch größer werden. Jetzt wünsche ich Ihnen aber einen schönen Tag und einen guten Mitgliederentscheid über den Koalitionsvertrag!',\n",
       "    'hashtags': [None],\n",
       "    'word_count': 27}},\n",
       "  {'_index': 'tweets',\n",
       "   '_id': '1435331202001612808',\n",
       "   '_score': 6.733741,\n",
       "   '_source': {'retweet_count': 0,\n",
       "    'reply_count': 1,\n",
       "    'like_count': 1,\n",
       "    'created_at': '2021-09-07T21:56:40+02:00',\n",
       "    'txt': '@TimDemisch Das Argument verstehe ich nicht. Hätten CDU, FDP und Grüne #Jamaika im Bund hinbekommen, hätte es keine Große Koalition gegeben. Werft ihr euer Scheitern jetzt der SPD vor?',\n",
       "    'hashtags': ['jamaika'],\n",
       "    'word_count': 29}},\n",
       "  {'_index': 'tweets',\n",
       "   '_id': '1428718334649016321',\n",
       "   '_score': 6.732862,\n",
       "   '_source': {'retweet_count': 0,\n",
       "    'reply_count': 0,\n",
       "    'like_count': 0,\n",
       "    'created_at': '2021-08-20T15:59:29+02:00',\n",
       "    'txt': '@Derarni13479 Die inhaltliche Bandbreite ist doch relativ groß. Aber du hast schon recht, offensichtlich sticht aus Sicht der Bevölkerung niemand so recht hervor, dem man besonders vertrauen kann. Nur ohne Richtungsentscheidung keine klare Koalition, viele Zugeständnisse und mehr Einheitsbrei.',\n",
       "    'hashtags': [None],\n",
       "    'word_count': 39}},\n",
       "  {'_index': 'tweets',\n",
       "   '_id': '1423020516290539522',\n",
       "   '_score': 6.7312474,\n",
       "   '_source': {'retweet_count': 1,\n",
       "    'reply_count': 0,\n",
       "    'like_count': 10,\n",
       "    'created_at': '2021-08-04T22:38:24+02:00',\n",
       "    'txt': '@eduardt_s Kevin Kühnert wollte schon sterben, wenn es eine weitere \"Große Koalition\" gibt, Martin Schulz hat sich auch das eine oder andere Mal versprochen, besser jetzt für eine andere Politik streiten....',\n",
       "    'hashtags': [None],\n",
       "    'word_count': 31}}],\n",
       " [{'_index': 'tweets',\n",
       "   '_id': '1425318379146121217',\n",
       "   '_score': 20.4839,\n",
       "   '_source': {'retweet_count': 4,\n",
       "    'reply_count': 2,\n",
       "    'like_count': 6,\n",
       "    'created_at': '2021-08-11T06:49:17+02:00',\n",
       "    'txt': '\"Schon der Gedanke daran das sie\\nmich schützen wollen treibt mir die\\nSchweißperlen auf die Stirn, Herr #Lauterbach Wo ist der Haken?\"\\n#SPD #coronavirus #CoronaGipfel\\n\\nhttps://t.co/kFUcQB7Mgq',\n",
       "    'hashtags': ['spd', 'lauterbach', 'coronavirus', 'coronagipfel'],\n",
       "    'word_count': 22}},\n",
       "  {'_index': 'tweets',\n",
       "   '_id': '1427241695448551425',\n",
       "   '_score': 19.151018,\n",
       "   '_source': {'retweet_count': 10,\n",
       "    'reply_count': 5,\n",
       "    'like_count': 26,\n",
       "    'created_at': '2021-08-16T14:11:51+02:00',\n",
       "    'txt': 'Propaganda: rosagrünliche #NATO-Sterne-Köche dressen heute ihren Imperialismus als feine Salatkreation: angemacht zum Selberkauen. Der Viralgelehrte Karl #Lauterbach macht so Appetit aufs Vordringen der NATO gegen Russland https://t.co/NBV6yrRQrI https://t.co/rD5xYbcntm',\n",
       "    'hashtags': ['lauterbach', 'nato'],\n",
       "    'word_count': 28}},\n",
       "  {'_index': 'tweets',\n",
       "   '_id': '1451179442609410051',\n",
       "   '_score': 18.715624,\n",
       "   '_source': {'retweet_count': 2,\n",
       "    'reply_count': 1,\n",
       "    'like_count': 8,\n",
       "    'created_at': '2021-10-21T15:31:55+02:00',\n",
       "    'txt': 'Das chinesische Viren-Institut in #Wuhan ist also \"der Klimawandel\"? Chinas Kommunisten freuen sich über ablenkende Fantasie #Lauterbach s. Ähnlich war es 2020 mit den Parolen der \"unabhängigen\" Forscher Peter #Daszak und #Drosten gegen die #Labortheorie zur #Corona-Freisetzung. https://t.co/jvVGpCp0sI',\n",
       "    'hashtags': ['corona',\n",
       "     'lauterbach',\n",
       "     'wuhan',\n",
       "     'drosten',\n",
       "     'daszak',\n",
       "     'labortheorie'],\n",
       "    'word_count': 38}},\n",
       "  {'_index': 'tweets',\n",
       "   '_id': '1442471458329047041',\n",
       "   '_score': 17.735302,\n",
       "   '_source': {'retweet_count': 0,\n",
       "    'reply_count': 0,\n",
       "    'like_count': 0,\n",
       "    'created_at': '2021-09-27T14:49:30+02:00',\n",
       "    'txt': 'Kann man der 8% #aliceweidel mal den Unterschied zwischen Direktmandat und Listenplatz erklären? Von Ergebnissen wie die von #Lauterbach und #helgelindh kann sie nur träumen. Neid passt zu ihrem Charakter https://t.co/OCENt18WME',\n",
       "    'hashtags': ['lauterbach', 'aliceweidel', 'helgelindh'],\n",
       "    'word_count': 31}},\n",
       "  {'_index': 'tweets',\n",
       "   '_id': '1429820586260406281',\n",
       "   '_score': 17.277119,\n",
       "   '_source': {'retweet_count': 10,\n",
       "    'reply_count': 6,\n",
       "    'like_count': 34,\n",
       "    'created_at': '2021-08-23T16:59:27+02:00',\n",
       "    'txt': 'Was uns am meisten Helfen würde, ist eine Weltreise von @Karl_Lauterbach! #lauterbach #lockdown #Kinderdurchseuchung https://t.co/4VpLeVBsKI',\n",
       "    'hashtags': ['lauterbach', 'lockdown', 'kinderdurchseuchung'],\n",
       "    'word_count': 15}},\n",
       "  {'_index': 'tweets',\n",
       "   '_id': '1438829958357524480',\n",
       "   '_score': 17.236359,\n",
       "   '_source': {'retweet_count': 100,\n",
       "    'reply_count': 8,\n",
       "    'like_count': 288,\n",
       "    'created_at': '2021-09-17T13:39:28+02:00',\n",
       "    'txt': 'Wenn die #Impfung nicht wirkt, einfach mehr impfen. Bei multiresistenten Keimen einfach mehr Antibiotika geben. Und bei islamistischen Anschlägen mehr Geld gegen Rechts. #Lauterbach https://t.co/Z2RYmPpFqX',\n",
       "    'hashtags': ['impfung', 'lauterbach'],\n",
       "    'word_count': 25}},\n",
       "  {'_index': 'tweets',\n",
       "   '_id': '1430556573504524289',\n",
       "   '_score': 12.603951,\n",
       "   '_source': {'retweet_count': 8,\n",
       "    'reply_count': 3,\n",
       "    'like_count': 18,\n",
       "    'created_at': '2021-08-25T17:44:00+02:00',\n",
       "    'txt': 'Hier muss eine sofortige Stellungnahme erfolgen. Das sieht mir nicht nach einem besorgten, zu Tode geängstigten, Karl #Lauterbach aus. Dient seine Hysterie nur zur Selbstbeschäftigung? #Lauterbachluegt https://t.co/2Sb2Nnl4wq',\n",
       "    'hashtags': ['lauterbach', 'lauterbachluegt'],\n",
       "    'word_count': 27}},\n",
       "  {'_index': 'tweets',\n",
       "   '_id': '1450094798866636803',\n",
       "   '_score': 12.603951,\n",
       "   '_source': {'retweet_count': 0,\n",
       "    'reply_count': 0,\n",
       "    'like_count': 4,\n",
       "    'created_at': '2021-10-18T15:41:56+02:00',\n",
       "    'txt': '@F_I_Briest Nein, es ist nicht falsch, dass der #Lauterbach ungestraft Unsinn reden darf.\\n\\nEs ist unfassbar, dass seine Kritiker und die Kritiker der Politik die er vertritt, zensiert werden.',\n",
       "    'hashtags': ['lauterbach'],\n",
       "    'word_count': 28}},\n",
       "  {'_index': 'tweets',\n",
       "   '_id': '1448939111113441280',\n",
       "   '_score': 12.603558,\n",
       "   '_source': {'retweet_count': 1,\n",
       "    'reply_count': 2,\n",
       "    'like_count': 4,\n",
       "    'created_at': '2021-10-15T11:09:38+02:00',\n",
       "    'txt': '#Lauterbach wusste also schon seit Monaten, dass die #Impfquote höher ist, als vom #RKI veröffentlicht? Und kein Wort dazu in der Öffentlichkeit?! \\n😳#FreedomDay #illner \\n\\nhttps://t.co/Fxfz4cqFD8',\n",
       "    'hashtags': ['lauterbach', 'rki', 'impfquote', 'illner', 'freedomday'],\n",
       "    'word_count': 25}},\n",
       "  {'_index': 'tweets',\n",
       "   '_id': '1422558865246277633',\n",
       "   '_score': 12.603164,\n",
       "   '_source': {'retweet_count': 21,\n",
       "    'reply_count': 12,\n",
       "    'like_count': 95,\n",
       "    'created_at': '2021-08-03T16:03:57+02:00',\n",
       "    'txt': 'Und jetzt doch! Die Regierung lässt nicht locker. Gerade Personen wie Karl #Lauterbach von der SPD machen ständig Druck. Wir sagen: Lasst die Kinder in Ruhe! #AfD \\n► https://t.co/hncZWtlP8j https://t.co/eNwOqhjgwY',\n",
       "    'hashtags': ['afd', 'lauterbach'],\n",
       "    'word_count': 30}}]]"
      ]
     },
     "execution_count": 14,
     "metadata": {},
     "output_type": "execute_result"
    }
   ],
   "source": [
    "import os\n",
    "import json\n",
    "\n",
    "with open(os.path.join(\"out\",\"word2vec\", \"09-01-23_11:08:31.log.json\"), \"r\") as f:\n",
    "    a = json.load(f)\n",
    "\n",
    "[tweet[\"tweets\"] for tweet in a[\"tweets\"]]"
   ]
  },
  {
   "cell_type": "code",
   "execution_count": null,
   "metadata": {},
   "outputs": [],
   "source": []
  }
 ],
 "metadata": {
  "kernelspec": {
   "display_name": "twitter-query-expansion-tWkdo8vh",
   "language": "python",
   "name": "python3"
  },
  "language_info": {
   "codemirror_mode": {
    "name": "ipython",
    "version": 3
   },
   "file_extension": ".py",
   "mimetype": "text/x-python",
   "name": "python",
   "nbconvert_exporter": "python",
   "pygments_lexer": "ipython3",
   "version": "3.10.6"
  },
  "orig_nbformat": 4,
  "vscode": {
   "interpreter": {
    "hash": "d9ad3c02dd4b61e1f3ed1e38bd9b3b7a8e15a3f55cb03b1470e9f32af9138128"
   }
  }
 },
 "nbformat": 4,
 "nbformat_minor": 2
}
