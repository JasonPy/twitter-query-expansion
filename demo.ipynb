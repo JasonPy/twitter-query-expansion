{
 "cells": [
  {
   "attachments": {},
   "cell_type": "markdown",
   "metadata": {},
   "source": [
    "# Twitter Query Expansion\n",
    "In this demo file, the project **Twitter Query Expansion** is ..."
   ]
  },
  {
   "attachments": {},
   "cell_type": "markdown",
   "metadata": {},
   "source": [
    "## Download Models\n",
    "First, different models for text processing and word embeddings are downloaded. \n",
    "\n",
    "For text processing SpaCy is utilized. The word embeddings of Word2Vec and Fasttext are "
   ]
  },
  {
   "cell_type": "code",
   "execution_count": 1,
   "metadata": {},
   "outputs": [],
   "source": [
    "SPACY_MODEL = \"de_core_news_lg\""
   ]
  },
  {
   "cell_type": "code",
   "execution_count": null,
   "metadata": {},
   "outputs": [],
   "source": [
    "import subprocess\n",
    "\n",
    "# download the respective SpaCy model\n",
    "subprocess.run(f\"python -m spacy download {SPACY_MODEL}\", shell=True)"
   ]
  },
  {
   "attachments": {},
   "cell_type": "markdown",
   "metadata": {},
   "source": [
    "Download FastText model"
   ]
  },
  {
   "cell_type": "code",
   "execution_count": null,
   "metadata": {},
   "outputs": [],
   "source": [
    "# Download german model from fasttext website\n",
    "subprocess.run(\"wget -P ./data/fasttext https://dl.fbaipublicfiles.com/fasttext/vectors-crawl/cc.de.300.bin.gz\", shell=True)\n",
    "\n",
    "# unzip the fasttext model\n",
    "subprocess.run(f\"gunzip -d ./data/fasttext/cc.de.300.bin.gz\", shell=True)"
   ]
  },
  {
   "attachments": {},
   "cell_type": "markdown",
   "metadata": {},
   "source": [
    "Download Word2Vec model"
   ]
  },
  {
   "cell_type": "code",
   "execution_count": null,
   "metadata": {},
   "outputs": [],
   "source": [
    "# Download german model from devmount website\n",
    "subprocess.run(\"wget -P ./data/fasttext https://cloud.devmount.de/d2bc5672c523b086/german.model\", shell=True)"
   ]
  },
  {
   "attachments": {},
   "cell_type": "markdown",
   "metadata": {},
   "source": [
    "## Define Queries\n",
    "The queries on which to evaluate the query expansion are stated."
   ]
  },
  {
   "cell_type": "code",
   "execution_count": 2,
   "metadata": {},
   "outputs": [],
   "source": [
    "QUERIES = [\n",
    "    \"@amthor Ist die große Koalition gescheitert unter Merkel? #Groko#SPD #CDU\",\n",
    "    \"#Lauterbach Virus! gelogen #Covid19 #Corona\"\n",
    "]\n",
    "\n",
    "SPACY_MODEL = \"de_core_news_lg\""
   ]
  },
  {
   "attachments": {},
   "cell_type": "markdown",
   "metadata": {},
   "source": [
    "## Set Pipeline Parameters\n",
    "Modify the following parameters to use different options for the word embeddings and elastic search query."
   ]
  },
  {
   "cell_type": "code",
   "execution_count": 3,
   "metadata": {},
   "outputs": [],
   "source": [
    "EMBEDDING_PARAMS = {\n",
    "    \"type\": \"word2vec\",\n",
    "    \"pos_list\": [\"NOUN\",\"ADJ\",\"VERB\"],\n",
    "    \"entity\": False,\n",
    "    \"hashtag\": True,\n",
    "    \"user\": False,\n",
    "    \"num_nearest_terms\": 3\n",
    "}\n",
    "\n",
    "ELASTIC_PARAMS = {\n",
    "    \"index\": \"tweets\",\n",
    "    \"retweet\": False,\n",
    "    \"hashtag_boost\": 0.5,\n",
    "    \"tweet_range\": (\"2021-01-01\", \"2023-01-01\")\n",
    "}"
   ]
  },
  {
   "attachments": {},
   "cell_type": "markdown",
   "metadata": {},
   "source": [
    "## Execute Pipeline\n",
    "Run the Pipeline - the results are stored in the `/out` directory."
   ]
  },
  {
   "cell_type": "code",
   "execution_count": 4,
   "metadata": {},
   "outputs": [
    {
     "name": "stdout",
     "output_type": "stream",
     "text": [
      "Processing text using SpaCy...\n",
      "Loading word2vec model...\n",
      "Connecting to Elastic Search...\n",
      "Successfully connected to https://localhost:9200\n",
      "Retrieving Tweets...\n",
      "Writing results to out/word2vec/09-01-23_18-46-10\n",
      "Done!\n"
     ]
    }
   ],
   "source": [
    "# run pipeline\n",
    "from scripts import pipeline\n",
    "\n",
    "res = pipeline.run(\n",
    "    queries=QUERIES, \n",
    "    spacy_model=SPACY_MODEL,\n",
    "    embedding_params=EMBEDDING_PARAMS,\n",
    "    elastic_params=ELASTIC_PARAMS)"
   ]
  },
  {
   "attachments": {},
   "cell_type": "markdown",
   "metadata": {},
   "source": [
    "## Inspect Results\n",
    "Load results and have a look through the retrieved Tweets. "
   ]
  },
  {
   "cell_type": "code",
   "execution_count": 33,
   "metadata": {},
   "outputs": [
    {
     "name": "stdout",
     "output_type": "stream",
     "text": [
      "Die erste #GroKo in Deutschland vereinte 1966 noch 86,9% der Wähler:innen hinter sich. Das lässt sich heute nicht mal mit einer Mosambik-Koalition erreichen. Aber wenn man #CDU und #FDP einerseits und #SPD und #Grüne anderseits beobachtet, könnte man das glatt als Lösung sehen. \n",
      "\n",
      "Aber…. Ach so, das wollten ja #SPD #CDU und #CSU explizit nicht. Obwohl Grüne, FDP und Linke das beantragt hatten. Die #GroKo nimmt es schlicht billigend in Kauf, dass bis zu 300 Abgeordnete mehr in den Bundestag kommen. Es wäre schlicht verheerend. \n",
      "\n",
      "Bis zu 1000 Abgeordnete könnte der neue #Bundestag nach der Wahl bekommen! Die #FDP hatte mit anderen Oppositionsparteien eine effektive #Wahlrechtsreform auf den Weg gebracht. Stattdessen hat sich die #GroKo aus #CDUCSU und #SPD für dieses Reförmchen ohne Wirkung gefeiert. @fdp https://t.co/VZJ1k0dbyW \n",
      "\n",
      "Auch wenn der @KSTA lieber #SPD statt #FDP schreibt (🤦🏻‍♂️), es gilt: die „epidemische Notlage von nationaler Tragweite“ besteht nicht mehr, und die gesetzliche Sonderregelungen müssen beendet werden. Die #groko (SPD +CDU!) hält trotzdem daran fest. #covid https://t.co/BgnCPhcmPS \n",
      "\n",
      "#Afghanistan Katastrophe mit Ansage. 20 Jahre die Dienste der Menschen dort in Anspruch genommen. Außenpolitik der #Bundesregierung =0. Holt alle Menschen in Not raus aus Afghanistan.  #Groko #SPD #CDU wiederholt nicht die Fehler aus Juni 21! @GrueneBundestag @JTrittin @KatjaKeul https://t.co/cG6XYpDYQR \n",
      "\n",
      "Nach der #SPD will nun auch die #CDU die schlechte #Groko in Niedersachsen beenden und lieber mit uns #GRÜNEN koalieren. Dazu braucht es aber einen Politikwechsel für mehr Klima- und Artenschutz, für Weltoffenheit, die Agrarwende und soziale Gerechtigkeit. https://t.co/E7I2HcaOBr \n",
      "\n",
      "Das Versagen der #GroKo #cdu #spd in einem Tweet \n",
      "👎🏼Parteitaktik über alles \n",
      "👎🏼in 4 J. keine wirkliche Reform hinbekommen\n",
      "👎🏼 Oppositionsvorschl. wie immer abgelehnt \n",
      "\n",
      "👎🏼👎🏼 Konsequenz: evtl über 900 MdB inkl. riesiger Kosten &amp; Chaos https://t.co/K9s1T8dVH5 \n",
      "\n",
      "Mit @Anne_Kura beim Städte- und Gemeindebund Niedersachsen in Bodenwerder, der die #Groko #SPD #CDU gerade für das „Kommunen in die Tasche Greif-Gesetz“ kritisiert. #Grüne wollen bessere Kommunalfinanzierung und Investitionen in #Klimaschutz und #Bildung @GrueneLtNds https://t.co/PK6zkUM6Ja \n",
      "\n",
      "So verspielt die #Groko im Bund mit #SPD @OlafScholz und #CDU @ArminLaschet Technologieführerschaft und Arbeitsplätze bei #Offshore #Wind, der für die #Energiewende zentrale Beiträge liefern muss. Und das ist nur ein Beispiel von vielen. | #ClimateAction #ParisAgreement https://t.co/R6lAwJDgaz \n",
      "\n",
      "Millionen Fördergelder in den Wind geschossen: An diesem unglaublichen Vorgang sieht man, welchen geringen Stellenwert der ländliche Raum für die Niedersachen-#GroKo aus #SPD und #CDU hat. https://t.co/LsFfmDqvNA \n",
      "\n",
      "Darf ich vorstellen?\n",
      "Der \"Gesundheitsexperte\" von der \"Partei der Arbeitnehmer\"...🚩🥳\n",
      "#Lauterbachluegt #Lauterbach #Impfverweigerer #2GRegel #Impfstatus #geimpft #ungeimpft #Corona #COVID19 #SPD #Scholz https://t.co/NfMFl24Ymi \n",
      "\n",
      "#SPD Fraktion im Bundestag dicht an dicht und ohne Maske.  Aber der Bürger wird in Bus, Bahn, Schule und Supermarkt mit der #Maskenpflicht schikaniert. Schluss mit dem Maskenunsinn!\n",
      "\n",
      "#Corona #COVID19 #topmodel #dasperfektedinner #coronavirus https://t.co/1HaYA1uPHt \n",
      "\n",
      "Jede Woche infizieren sich in den USA Hunderttausende Schüler mit #Covid19, weil sich die ansteckendere #DeltaVariante verbreitet und der Präsenzunterricht im ganzen Land wieder aufgenommen wurde.\n",
      "\n",
      "https://t.co/o3MtAVsJuQ\n",
      "#Coronavirus #Schoolstrike2021 \n",
      "\n",
      "Entwicklung der #Covid19-Infektionen (14.08.2021, 0 Uhr): \n",
      "👉129.541 Fälle (+32 in 24 h), 124.730 Genesene, Hospitalisierungs-Inzidenz: 0,7\n",
      "👉Im Freistaat sind bislang 4.389 mit dem Coronavirus infizierte Personen verstorben. \n",
      "👉Neuinfinzierte 7 Tage pro 100.000 Einwohner: 7,8 https://t.co/GXMnnozDX2 \n",
      "\n",
      "Werdende Mütter brauchen besonderen Schutz vor einer #COVID19-Erkrankung. Schützen Sie Schwangere und lassen Sie sich gegen das #Coronavirus #impfen. Mehr Informationen zu #Schwangerschaft und der #CoronaSchutzimpfung unter: https://t.co/uQAtFAqD1Y https://t.co/5n1ct8SIGK \n",
      "\n",
      "Entwicklung der #Covid19-Infektionen \n",
      "(08.08.2021, 00:00 Uhr): \n",
      "👉129.379 Fälle (+9 in den letzten 24 h), 124.620 Genesene \n",
      "👉Im Freistaat sind bislang 4.384 mit dem Coronavirus infizierte Personen verstorben. \n",
      "👉Neuinfinzierte der letzten 7 Tage pro 100.000 Einwohner: 6,3 https://t.co/No9bIeaqfs \n",
      "\n",
      "Entwicklung der #Covid19-Infektionen\n",
      "(12.08.2021, 00:00 Uhr):\n",
      "👉129.474 Fälle (+30 in den letzten 24 h), 124.690 Genesene\n",
      "👉Im Freistaat sind bislang 4.388 mit dem Coronavirus infizierte Personen verstorben.\n",
      "👉Neuinfinzierte der letzten 7 Tage pro 100.000 Einwohner: 6,7 https://t.co/TqspcoEGga \n",
      "\n",
      "Entwicklung der #Covid19-Infektionen (07.08.2021, 00:00 Uhr): \n",
      "👉129.370 Fälle (+28 in den letzten 24 h), 124.620 Genesene \n",
      "👉Im Freistaat sind bislang 4.384 mit dem Coronavirus infizierte Personen verstorben. \n",
      "👉Neuinfinzierte der letzten 7 Tage pro 100.000 Einwohner: 7,0 https://t.co/DGnGYwXN3N \n",
      "\n",
      "Entwicklung der #Covid19-Infektionen (15.08.2021, 0 Uhr): 129.556 Fälle (+15 in 24 h), 124.730 Genesene, Hospitalisierungs-Inzidenz: 0,7. Im Freistaat sind bislang 4.390 mit dem Coronavirus infizierte Personen verstorben. Neuinfinzierte 7 Tage/100.000 Einwohner: 8,1 https://t.co/aCpKog6xXl \n",
      "\n",
      "Entwicklung der #Covid19-Infektionen\n",
      "(09.08.2021, 00:00 Uhr):\n",
      "👉129.386 Fälle (+7 in den letzten 24 h), 124.640 Genesene\n",
      "👉Im Freistaat sind bislang 4.384 mit dem Coronavirus infizierte Personen verstorben.\n",
      "👉Neuinfinzierte der letzten 7 Tage pro 100.000 Einwohner: 6,5 https://t.co/jbLqFGUoyS \n",
      "\n"
     ]
    }
   ],
   "source": [
    "for tweets in res:\n",
    "    for tweet in tweets[\"tweets\"]:\n",
    "        print(tweet[\"_source\"][\"txt\"], \"\\n\")"
   ]
  },
  {
   "cell_type": "code",
   "execution_count": null,
   "metadata": {},
   "outputs": [],
   "source": []
  }
 ],
 "metadata": {
  "kernelspec": {
   "display_name": "twitter-query-expansion-tWkdo8vh",
   "language": "python",
   "name": "python3"
  },
  "language_info": {
   "codemirror_mode": {
    "name": "ipython",
    "version": 3
   },
   "file_extension": ".py",
   "mimetype": "text/x-python",
   "name": "python",
   "nbconvert_exporter": "python",
   "pygments_lexer": "ipython3",
   "version": "3.10.6"
  },
  "orig_nbformat": 4,
  "vscode": {
   "interpreter": {
    "hash": "d9ad3c02dd4b61e1f3ed1e38bd9b3b7a8e15a3f55cb03b1470e9f32af9138128"
   }
  }
 },
 "nbformat": 4,
 "nbformat_minor": 2
}
